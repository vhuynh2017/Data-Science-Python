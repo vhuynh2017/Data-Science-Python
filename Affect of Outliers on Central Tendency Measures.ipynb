{
 "cells": [
  {
   "cell_type": "markdown",
   "metadata": {},
   "source": [
    "# Affect of Outliers on Central Tendency Measures \n",
    "The short script aims to explore the affect of outliers on Central Tendency Measures"
   ]
  },
  {
   "cell_type": "markdown",
   "metadata": {},
   "source": [
    "### Central Tendency Measures: \n",
    "* Mean: The average of all data points. To find the mean, add up all of the values and divide by the number of observations in your dataset.\n",
    "* Median: The data point where half of the data lies above and half below it. To find the median, order your data from smallest to largest and then find the data point that has an equal amount of values above it and below it.\n",
    "* Mode: The most frequently occurring value\n",
    "\n",
    "When to use the median: Skewed distribution, Continuous data, Ordinal data. When you have ordinal data, the median or mode is usually the best choice. For categorical data, you have to use the mode.\n",
    "\n",
    "For more info:\n",
    "* https://online.stat.psu.edu/stat504/node/12/\n",
    "* https://statisticsbyjim.com/basics/measures-central-tendency-mean-median-mode/"
   ]
  },
  {
   "cell_type": "markdown",
   "metadata": {},
   "source": [
    "## Step 1: Setup"
   ]
  },
  {
   "cell_type": "code",
   "execution_count": 1,
   "metadata": {},
   "outputs": [],
   "source": [
    "# Imports\n",
    "import numpy as np\n",
    "import seaborn as sns\n",
    "\n",
    "# To make this notebook's output stable across runs\n",
    "np.random.seed(42)\n",
    "\n",
    "# To plot pretty figures\n",
    "%matplotlib inline\n",
    "import matplotlib\n",
    "import matplotlib.pyplot as plt"
   ]
  },
  {
   "cell_type": "markdown",
   "metadata": {},
   "source": [
    "## Step 2: Create and Visual the Data"
   ]
  },
  {
   "cell_type": "code",
   "execution_count": 2,
   "metadata": {},
   "outputs": [
    {
     "name": "stdout",
     "output_type": "stream",
     "text": [
      "First 10 data points: \n",
      " [22483.57076506 19308.67849414 23238.4426905  27615.14928204\n",
      " 18829.23312638 18829.31521525 27896.06407754 23837.17364576\n",
      " 17652.62807033 22712.80021793]\n"
     ]
    }
   ],
   "source": [
    "# https://numpy.org/doc/stable/reference/random/generated/numpy.random.normal.html\n",
    "\n",
    "# Create the data set: (mean, std, output shape)\n",
    "data = np.random.normal(20000, 5000, 1000)\n",
    "print(\"First 10 data points: \\n\", data[:10])"
   ]
  },
  {
   "cell_type": "code",
   "execution_count": 3,
   "metadata": {},
   "outputs": [
    {
     "name": "stdout",
     "output_type": "stream",
     "text": [
      "The standard deviation is 4893.631038736771\n"
     ]
    }
   ],
   "source": [
    "# Check to see if standard deviation of the data matches (at least close) what we set up\n",
    "print(\"The standard deviation is\", data.std())"
   ]
  },
  {
   "cell_type": "code",
   "execution_count": 4,
   "metadata": {},
   "outputs": [
    {
     "data": {
      "image/png": "[encoded data removed]",
      "text/plain": [
       "<Figure size 432x288 with 1 Axes>"
      ]
     },
     "metadata": {},
     "output_type": "display_data"
    }
   ],
   "source": [
    "# Set default Seaborn style\n",
    "sns.set()\n",
    "\n",
    "# Plot the data\n",
    "bucket_num = 25\n",
    "plt.hist(data, bucket_num)\n",
    "plt.xlabel('Income')\n",
    "plt.ylabel('Count')\n",
    "plt.title('Histogram of Income Distribution')\n",
    "plt.show()"
   ]
  },
  {
   "cell_type": "markdown",
   "metadata": {},
   "source": [
    "## Step 3: Calculate Central Tendency Measures"
   ]
  },
  {
   "cell_type": "markdown",
   "metadata": {},
   "source": [
    "### Mean, Median\n",
    "For a symmetric distribution such as the normal distribution, the mean and the median are the same number (or very close)"
   ]
  },
  {
   "cell_type": "code",
   "execution_count": 5,
   "metadata": {},
   "outputs": [
    {
     "name": "stdout",
     "output_type": "stream",
     "text": [
      "The Mean is 20096.660279111627\n",
      "The Median is 20126.50306117444\n"
     ]
    }
   ],
   "source": [
    "# Mean and Median\n",
    "normalMean = np.mean(data)\n",
    "normalMedian = np.median(data)\n",
    "\n",
    "print(\"The Mean is\", normalMean )\n",
    "print(\"The Median is\", normalMedian )"
   ]
  },
  {
   "cell_type": "markdown",
   "metadata": {},
   "source": [
    "### Mode\n",
    "In the continuous data such as the one we are working with, it is unlikely to have for repeated values because there are an infinite number of values between any two values. However, we can find the mode for continuous data by locating the maximum value on a probability distribution plot"
   ]
  },
  {
   "cell_type": "code",
   "execution_count": 6,
   "metadata": {},
   "outputs": [
    {
     "data": {
      "image/png": "[encoded data removed]",
      "text/plain": [
       "<Figure size 432x288 with 1 Axes>"
      ]
     },
     "metadata": {},
     "output_type": "display_data"
    }
   ],
   "source": [
    "# Calculate for Probability\n",
    "dataUnique, dataCounts = np.unique(data, return_counts=True);\n",
    "PMF = dataCounts/data.shape[0];\n",
    "\n",
    "# https://matplotlib.org/3.1.0/api/_as_gen/matplotlib.pyplot.hist.html\n",
    "# Using the \"weights\" parameter for probability (\"density\" parameter = probability density)\n",
    "y, x, _ = plt.hist(dataUnique, bins=bucket_num, weights=PMF)\n",
    "plt.xlabel('Income')\n",
    "plt.ylabel('Probability')\n",
    "plt.title('Histogram of Income Distribution')\n",
    "plt.show()"
   ]
  },
  {
   "cell_type": "code",
   "execution_count": 7,
   "metadata": {},
   "outputs": [
    {
     "name": "stdout",
     "output_type": "stream",
     "text": [
      "The largest probability is 0.1210000000000001 with the income bucket/bin [20819.26049339]\n",
      "As the result, the mode is [20819.26049339]\n"
     ]
    }
   ],
   "source": [
    "# Mode\n",
    "dataMode = x[np.where(y == y.max())]\n",
    "\n",
    "print(\"The largest probability is\", y.max(), \"with the income bucket/bin\", x[np.where(y == y.max())])\n",
    "print(\"As the result, the mode is\", dataMode )"
   ]
  },
  {
   "cell_type": "markdown",
   "metadata": {},
   "source": [
    "## Step 4: Calculate Central Tendency Measures with Outliers"
   ]
  },
  {
   "cell_type": "code",
   "execution_count": 8,
   "metadata": {},
   "outputs": [],
   "source": [
    "# Creating Outliers\n",
    "data = np.append(data, [50000, 150000, 750000])"
   ]
  },
  {
   "cell_type": "code",
   "execution_count": 9,
   "metadata": {},
   "outputs": [
    {
     "name": "stdout",
     "output_type": "stream",
     "text": [
      "Last 3 values in the data set:  [ 50000. 150000. 750000.]\n"
     ]
    }
   ],
   "source": [
    "# Check outlier in the new data\n",
    "print(\"Last 3 values in the data set: \", data[-3:])"
   ]
  },
  {
   "cell_type": "markdown",
   "metadata": {},
   "source": [
    "### Mean, Median,  Mode\n",
    "Based on the mode definition, it value should not be affected in skew distribution because there are only few outliers. "
   ]
  },
  {
   "cell_type": "code",
   "execution_count": 10,
   "metadata": {},
   "outputs": [
    {
     "name": "stdout",
     "output_type": "stream",
     "text": [
      "The Mean is 20983.709151656658\n",
      "The Median is 20134.429194972654\n"
     ]
    }
   ],
   "source": [
    "# Mean and Median\n",
    "outlierMean = np.mean(data)\n",
    "outlierMedian = np.median(data)\n",
    "\n",
    "print(\"The Mean is\", outlierMean)\n",
    "print(\"The Median is\", outlierMedian)"
   ]
  },
  {
   "cell_type": "markdown",
   "metadata": {},
   "source": [
    "## Step 5: Evaluate Results\n",
    "#### Based on the result below, the median is more resistant to outliers because there a so few of them. Extreme values in an extended tail pull the mean away from the center. As the distribution becomes more skewed, the mean is drawn further away from the center. As the result, only use mean as a measure of the central tendency when you have a symmetric distribution."
   ]
  },
  {
   "cell_type": "code",
   "execution_count": 11,
   "metadata": {},
   "outputs": [
    {
     "name": "stdout",
     "output_type": "stream",
     "text": [
      "The Mean is 20096.660279111627\n",
      "The Median is 20126.50306117444\n"
     ]
    }
   ],
   "source": [
    "# Symmetric Distribution\n",
    "print(\"The Mean is\", normalMean )\n",
    "print(\"The Median is\", normalMedian )"
   ]
  },
  {
   "cell_type": "code",
   "execution_count": 12,
   "metadata": {},
   "outputs": [
    {
     "name": "stdout",
     "output_type": "stream",
     "text": [
      "The Mean is 20983.709151656658\n",
      "The Median is 20134.429194972654\n"
     ]
    }
   ],
   "source": [
    "# Skewed Distribution\n",
    "print(\"The Mean is\", outlierMean)\n",
    "print(\"The Median is\", outlierMedian)"
   ]
  }
 ],
 "metadata": {
  "kernelspec": {
   "display_name": "Python 3",
   "language": "python",
   "name": "python3"
  },
  "language_info": {
   "codemirror_mode": {
    "name": "ipython",
    "version": 3
   },
   "file_extension": ".py",
   "mimetype": "text/x-python",
   "name": "python",
   "nbconvert_exporter": "python",
   "pygments_lexer": "ipython3",
   "version": "3.7.9"
  }
 },
 "nbformat": 4,
 "nbformat_minor": 4
}
