{
 "cells": [
  {
   "cell_type": "markdown",
   "metadata": {
    "colab_type": "text",
    "id": "p78j872pOKTZ"
   },
   "source": [
    "# CAP 5768 - Data Science - Dr. Marques - Fall 2019"
   ]
  },
  {
   "cell_type": "markdown",
   "metadata": {
    "colab_type": "text",
    "id": "NYmNMHGLOKTa"
   },
   "source": [
    "## Assignment 6: Regression Analysis"
   ]
  },
  {
   "cell_type": "markdown",
   "metadata": {
    "colab_type": "text",
    "id": "9UMnsRndOKTb"
   },
   "source": [
    "### Goals \n",
    "\n",
    "- To learn how to use perform linear regression by least squares using Python and scikit-learn.\n",
    "- To appreciate that the same linear regression coefficients may be the best fit for dramatically different data distributions -- as illustrated by the Anscombe's quartet.\n",
    "- To practice with different types of regularization (*lasso* and *ridge*) and understand when to use them.\n",
    "- To expand upon the prior experience of manipulating, summarizing, and visualizing small datasets.\n",
    "- To increase our statistical analysis skills."
   ]
  },
  {
   "cell_type": "markdown",
   "metadata": {
    "colab_type": "text",
    "id": "B0rEAT7MOKTb"
   },
   "source": [
    "### Instructions\n",
    "\n",
    "- This assignment is structured in 4 parts.\n",
    "- As usual, there will be some Python code to be written and questions to be answered.\n",
    "- At the end, you should export your notebook to PDF format; it will become your report.\n",
    "- Submit the report (PDF), notebook (.ipynb file), and (optionally) link to the \"live\" version of your solution on Google Colaboratory via Canvas."
   ]
  },
  {
   "cell_type": "code",
   "execution_count": 1,
   "metadata": {
    "colab": {
     "base_uri": "https://localhost:8080/",
     "height": 34
    },
    "colab_type": "code",
    "id": "4dkSabDG5gjc",
    "outputId": "3c3cdd00-171e-4e91-9bcc-67f79eceeb70"
   },
   "outputs": [],
   "source": [
    "#Imports\n",
    "import numpy as np\n",
    "import matplotlib.pyplot as plt\n",
    "import pandas as pd\n",
    "%matplotlib inline\n",
    "import seaborn as sns; sns.set()\n",
    "import scipy.stats as ss"
   ]
  },
  {
   "cell_type": "markdown",
   "metadata": {},
   "source": [
    "-------------------\n",
    "## Part 1: Linear regression by least squares\n",
    "\n",
    "In this part, we will take another look at the correlation between female literacy and fertility (defined as the average number of children born per woman) throughout the world. For ease of analysis and interpretation, we will work with the *illiteracy* rate.\n",
    "\n",
    "The Python code below plots the fertility versus illiteracy and computes the Pearson correlation coefficient. The Numpy array `illiteracy` has the illiteracy rate among females for most of the world's nations. The array `fertility` has the corresponding fertility data."
   ]
  },
  {
   "cell_type": "code",
   "execution_count": 2,
   "metadata": {},
   "outputs": [
    {
     "data": {
      "image/png": "[encoded data removed]",
      "text/plain": [
       "<Figure size 432x288 with 1 Axes>"
      ]
     },
     "metadata": {
      "needs_background": "light"
     },
     "output_type": "display_data"
    },
    {
     "name": "stdout",
     "output_type": "stream",
     "text": [
      "Pearson correlation coefficient between illiteracy and fertility: 0.80413\n"
     ]
    }
   ],
   "source": [
    "df = pd.read_csv('data/female_literacy_fertility.csv')\n",
    "\n",
    "illiteracy = 100 - df['female literacy']\n",
    "\n",
    "fertility = df['fertility']\n",
    "\n",
    "def pearson_r(x, y):\n",
    "    \"\"\"Compute Pearson correlation coefficient between two arrays.\"\"\"\n",
    "    # Compute correlation matrix: corr_mat\n",
    "    corr_mat = np.corrcoef(x, y)\n",
    "\n",
    "    # Return entry [0,1]\n",
    "    return corr_mat[0,1]\n",
    "\n",
    "# Plot the illiteracy rate versus fertility\n",
    "_ = plt.plot(illiteracy, fertility, marker='.', linestyle='none')\n",
    "\n",
    "# Set the margins and label axes\n",
    "plt.margins(0.02)\n",
    "_ = plt.xlabel('% illiterate')\n",
    "_ = plt.ylabel('fertility')\n",
    "\n",
    "# Show the plot\n",
    "plt.show()\n",
    "\n",
    "# Show the Pearson correlation coefficient\n",
    "print('Pearson correlation coefficient between illiteracy and fertility: {:.5f}'.format(pearson_r(illiteracy, fertility)))"
   ]
  },
  {
   "cell_type": "markdown",
   "metadata": {},
   "source": [
    "We will assume that fertility is a linear function of the female illiteracy rate: `f=ai+b`, where `a` is the slope and `b` is the intercept. \n",
    "\n",
    "We can think of the intercept as the minimal fertility rate, probably somewhere between one and two. \n",
    "\n",
    "The slope tells us how the fertility rate varies with illiteracy. \n",
    "We can find the best fit line .\n",
    "\n",
    "### Write code to plot the data and the best fit line (using `np.polyfit()`) and print out the slope and intercept."
   ]
  },
  {
   "cell_type": "markdown",
   "metadata": {
    "colab_type": "text",
    "id": "tdOZPjis7Phf"
   },
   "source": [
    "## Solution"
   ]
  },
  {
   "cell_type": "code",
   "execution_count": 3,
   "metadata": {
    "colab": {},
    "colab_type": "code",
    "id": "BQkN1WvQOKTi"
   },
   "outputs": [
    {
     "name": "stdout",
     "output_type": "stream",
     "text": [
      "Line of best fit function:  \n",
      "0.0498 x + 1.888\n",
      "\n",
      "Using np.polyfit:\n",
      "Slope: 0.049799\t\tIntercept: 1.888051\n",
      "\n",
      "Using ss.linregress:\n",
      "Slope: 0.049799\t\tIntercept: 1.888051\n"
     ]
    },
    {
     "data": {
      "image/png": "[encoded data removed]",
      "text/plain": [
       "<Figure size 432x288 with 1 Axes>"
      ]
     },
     "metadata": {
      "needs_background": "light"
     },
     "output_type": "display_data"
    }
   ],
   "source": [
    "# Write code to plot the data and the best fit line (using np.polyfit()) \n",
    "# and print out the slope and intercept\n",
    "\n",
    "                        # Line of Best Fit #\n",
    "# https://docs.scipy.org/doc/numpy/reference/generated/numpy.polyfit.html\n",
    "# https://docs.scipy.org/doc/numpy/reference/generated/numpy.poly1d.html\n",
    "poly_coefficients = np.polyfit(x = illiteracy, y = fertility, deg = 1)\n",
    "poly1d_function = np.poly1d(poly_coefficients)\n",
    "print(\"Line of best fit function:\", poly1d_function)\n",
    "\n",
    "                        # Slope and Intercept #\n",
    "print(\"\\nUsing np.polyfit:\")\n",
    "print(\"Slope: %f\\t\\tIntercept: %f\" % (poly_coefficients[0], poly_coefficients[1]))\n",
    "\n",
    "# https://docs.scipy.org/doc/scipy/reference/generated/scipy.stats.linregress.html\n",
    "print(\"\\nUsing ss.linregress:\")\n",
    "slope, intercept, r_value, p_value, std_err = ss.linregress(illiteracy, fertility)\n",
    "print(\"Slope: %f\\t\\tIntercept: %f\" % (slope, intercept))\n",
    "\n",
    "                        # Plotting #\n",
    "# Plot line of best fit\n",
    "_ = plt.plot(illiteracy, poly1d_function(illiteracy));\n",
    "\n",
    "# Plot the illiteracy rate versus fertility\n",
    "_ = plt.plot(illiteracy, fertility, marker='.', linestyle='none')\n",
    "\n",
    "# Set the margins and label axes\n",
    "plt.margins(0.02)\n",
    "_ = plt.xlabel('% Illiterate')\n",
    "_ = plt.ylabel('Fertility')\n",
    "_ = plt.title(\"Female Illiteracy and Fertility Plot\")\n",
    "\n",
    "# Show the plot\n",
    "plt.show();"
   ]
  },
  {
   "cell_type": "markdown",
   "metadata": {},
   "source": [
    "The function `np.polyfit()` that you used above to get your regression parameters finds the optimal slope and intercept. It is optimizing the the _residual sum of squares (RSS)_, also known as the _sum of squared residuals (SSR)_ or the _sum of squared estimate of errors (SSE)_, which can be defined as \"the sum of the squares of residuals (deviations predicted from actual empirical values of data).\" (see https://en.wikipedia.org/wiki/Residual_sum_of_squares)\n",
    "\n",
    "### Write code to plot the function that is being optimized, the RSS, versus the slope parameter `a`. To do this, fix the intercept (`b`) to be what you found in the optimization. Then, plot the RSS vs. the slope. Where is it minimal?\n",
    "\n",
    "Hint: use a `for` loop to draw 100,000 permutation replicates and compute the Pearson correlation coefficient for each of them. (Vinh = ?????!!!)\n",
    "\n",
    "Your plot will probably look like this:\n",
    "![data/plot.png](data/plot.png)"
   ]
  },
  {
   "cell_type": "markdown",
   "metadata": {
    "colab_type": "text",
    "id": "tdOZPjis7Phf"
   },
   "source": [
    "## Solution"
   ]
  },
  {
   "cell_type": "code",
   "execution_count": 4,
   "metadata": {
    "colab": {},
    "colab_type": "code",
    "id": "BQkN1WvQOKTi"
   },
   "outputs": [
    {
     "data": {
      "image/png": "[encoded data removed]",
      "text/plain": [
       "<Figure size 432x288 with 1 Axes>"
      ]
     },
     "metadata": {
      "needs_background": "light"
     },
     "output_type": "display_data"
    },
    {
     "name": "stdout",
     "output_type": "stream",
     "text": [
      "The minimum is around 0.05\n"
     ]
    }
   ],
   "source": [
    "# Write code to plot the function that is being optimized, the RSS, versus the slope parameter a\n",
    "\n",
    "# Fix the intercept (b) to be what you found in the optimization\n",
    "optimized_intercept = poly_coefficients[1]\n",
    "\n",
    "# Around 1000 is fine (don't need 100000 )\n",
    "count =  1000\n",
    "a = np.linspace(0, 0.1, count)\n",
    "rss = np.empty(count)\n",
    "\n",
    "for x in range(count): \n",
    "    # Predict value from the model \n",
    "    model_predicted = a[x] * illiteracy + optimized_intercept\n",
    "    \n",
    "    # Sum of squared residuals (SSR): actual - predicted\n",
    "    rss[x] = np.sum(np.square(fertility - model_predicted))\n",
    "\n",
    "\n",
    "# Plot the Slope vs RSS\n",
    "RSS_plot = plt.plot(a, rss)\n",
    "\n",
    "# Set the margins and label axes\n",
    "plt.margins(0.02)\n",
    "RSS_plot = plt.xlabel('slope (children per woman / percent illiterate)')\n",
    "RSS_plot = plt.ylabel('sum of squared of residuals ')\n",
    "RSS_plot = plt.title(\"Slope vs RSS\")\n",
    "\n",
    "# Show the plot\n",
    "plt.show();\n",
    "\n",
    "# Mininal in the plot \n",
    "print(\"The minimum is around 0.05\")"
   ]
  },
  {
   "cell_type": "markdown",
   "metadata": {},
   "source": [
    "-------------------\n",
    "## Part 2: Anscombe's quartet\n",
    "\n",
    "The Anscombe's quartet is a collection of four small data sets that have nearly identical simple descriptive statistics, yet have very different distributions. Each dataset consists of 11 `(x,y)` points. The quartet was created in 1973 by the statistician Francis Anscombe to demonstrate: the importance of visualization and exploratory data analysis (EDA), the effect of outliers and other influential observations on statistical properties, and the limitations of summary statistics (\\*).\n",
    "\n",
    "(\\*) See https://heap.io/blog/data-stories/anscombes-quartet-and-why-summary-statistics-dont-tell-the-whole-story if you're interested.\n",
    "\n",
    "![data/Anscombes_Quartet.png](data/Anscombes_Quartet.png) \n",
    "\n",
    "The Python code below performs a linear regression on the data set from Anscombe's quartet that is most reasonably interpreted with linear regression."
   ]
  },
  {
   "cell_type": "code",
   "execution_count": 5,
   "metadata": {},
   "outputs": [],
   "source": [
    "x1 = [10.0, 8.0,  13.0,  9.0,  11.0, 14.0, 6.0,  4.0,  12.0,  7.0,  5.0]\n",
    "y1 = [8.04, 6.95, 7.58,  8.81, 8.33, 9.96, 7.24, 4.26, 10.84, 4.82, 5.68]\n",
    "\n",
    "x2 = [10.0, 8.0,  13.0,  9.0,  11.0, 14.0, 6.0,  4.0,  12.0,  7.0,  5.0]\n",
    "y2 = [9.14, 8.14, 8.74,  8.77, 9.26, 8.10, 6.13, 3.10, 9.13,  7.26, 4.74]\n",
    "\n",
    "x3 = [10.0, 8.0,  13.0,  9.0,  11.0, 14.0, 6.0,  4.0,  12.0,  7.0,  5.0]\n",
    "y3 = [7.46, 6.77, 12.74, 7.11, 7.81, 8.84, 6.08, 5.39, 8.15,  6.42, 5.73]\n",
    "\n",
    "x4 = [8.0,  8.0,  8.0,   8.0,  8.0,  8.0,  8.0,  19.0,  8.0,  8.0,  8.0]\n",
    "y4 = [6.58, 5.76, 7.71,  8.84, 8.47, 7.04, 5.25, 12.50, 5.56, 7.91, 6.89]"
   ]
  },
  {
   "cell_type": "code",
   "execution_count": 6,
   "metadata": {
    "scrolled": true
   },
   "outputs": [
    {
     "name": "stdout",
     "output_type": "stream",
     "text": [
      "slope = 0.5000909090909095\n",
      "intercept = 3.0000909090909076\n"
     ]
    },
    {
     "data": {
      "image/png": "[encoded data removed]",
      "text/plain": [
       "<Figure size 432x288 with 1 Axes>"
      ]
     },
     "metadata": {
      "needs_background": "light"
     },
     "output_type": "display_data"
    }
   ],
   "source": [
    "# Perform linear regression: a, b\n",
    "a, b = np.polyfit(x1, y1, 1)\n",
    "\n",
    "# Print the slope and intercept\n",
    "print('slope =', a)\n",
    "print('intercept =', b)\n",
    "\n",
    "# Generate theoretical x and y data: x_theor, y_theor\n",
    "x_theor = np.array([3, 15])\n",
    "y_theor = a * x_theor + b\n",
    "\n",
    "# Plot the Anscombe data and theoretical line\n",
    "_ = plt.plot(x1, y1, marker='.', linestyle='none')\n",
    "_ = plt.plot(x_theor, y_theor)\n",
    "\n",
    "# Label the axes\n",
    "plt.xlabel('x')\n",
    "plt.ylabel('y')\n",
    "\n",
    "# Show the plot\n",
    "plt.show()"
   ]
  },
  {
   "cell_type": "markdown",
   "metadata": {},
   "source": [
    "## Linear regression on all Anscombe data\n",
    "\n",
    "### Write code to verify that all four of the Anscombe data sets have the same slope and intercept from a linear regression, i.e. compute the slope and intercept for each set. \n",
    "\n",
    "The data are stored in lists (`anscombe_x = [x1, x2, x3, x4]` and `anscombe_y = [y1, y2, y3, y4]`), corresponding to the $x$ and $y$ values for each Anscombe data set."
   ]
  },
  {
   "cell_type": "markdown",
   "metadata": {
    "colab_type": "text",
    "id": "tdOZPjis7Phf"
   },
   "source": [
    "## Solution"
   ]
  },
  {
   "cell_type": "code",
   "execution_count": 7,
   "metadata": {
    "colab": {},
    "colab_type": "code",
    "id": "BQkN1WvQOKTi"
   },
   "outputs": [
    {
     "name": "stdout",
     "output_type": "stream",
     "text": [
      "x1, y1:\n",
      "\tslope = 0.5000909090909095 \tintercept = 3.0000909090909076\n",
      "x2, y2:\n",
      "\tslope = 0.5000000000000004 \tintercept = 3.000909090909089\n",
      "x3, y3:\n",
      "\tslope = 0.4997272727272731 \tintercept = 3.0024545454545453\n",
      "x4, y4:\n",
      "\tslope = 0.49990909090909064 \tintercept = 3.0017272727272735\n"
     ]
    }
   ],
   "source": [
    "# Write code to verify that all four of the Anscombe data sets have the same slope and \n",
    "# intercept from a linear regression, i.e. compute the slope and intercept for each set.\n",
    "\n",
    "anscombe_x = [x1, x2, x3, x4]\n",
    "anscombe_y = [y1, y2, y3, y4]\n",
    "\n",
    "for i in range(4):\n",
    "    # Perform linear regression: a, b\n",
    "    a, b = np.polyfit(anscombe_x[i], anscombe_y[i], 1)\n",
    "        \n",
    "    # Print the slope and intercept\n",
    "    print(\"x%d, y%d:\" % (i+1,i+1))\n",
    "    print('\\tslope =', a, '\\tintercept =', b)"
   ]
  },
  {
   "cell_type": "markdown",
   "metadata": {},
   "source": [
    "-------------------\n",
    "## Part 3: Regression using scikit-learn\n",
    "\n",
    "Now that we know the basics of linear regression, we will switch to scikit-learn, a powerful, workflow-oriented library for data science and machine learning.\n",
    "\n",
    "The Python code below shows a simple linear regression example using scikit-learn. Note the use of the `fit()` and `predict()` methods."
   ]
  },
  {
   "cell_type": "code",
   "execution_count": 8,
   "metadata": {},
   "outputs": [
    {
     "name": "stdout",
     "output_type": "stream",
     "text": [
      "[2.9776566]\n",
      "-1.903310725531119\n"
     ]
    },
    {
     "data": {
      "image/png": "[encoded data removed]",
      "text/plain": [
       "<Figure size 432x288 with 1 Axes>"
      ]
     },
     "metadata": {
      "needs_background": "light"
     },
     "output_type": "display_data"
    }
   ],
   "source": [
    "import matplotlib.pyplot as plt\n",
    "import numpy as np\n",
    "\n",
    "# Generate random data around the y = ax+b line where a=3 and b=-2\n",
    "rng = np.random.RandomState(42)\n",
    "x = 10 * rng.rand(50)\n",
    "y = 3 * x - 2 + rng.randn(50)\n",
    "\n",
    "from sklearn.linear_model import LinearRegression\n",
    "\n",
    "# Note: If you get a \"ModuleNotFoundError: No module named 'sklearn'\" error message, don't panic.\n",
    "# It probably means you'll have to install the module by hand if you're using pip. \n",
    "# If you're using conda, you should not see any error message.\n",
    "\n",
    "model = LinearRegression(fit_intercept=True)\n",
    "\n",
    "X = x[:, np.newaxis]\n",
    "X.shape\n",
    "\n",
    "model.fit(X, y)\n",
    "print(model.coef_)\n",
    "print(model.intercept_)\n",
    "\n",
    "xfit = np.linspace(-1, 11)\n",
    "Xfit = xfit[:, np.newaxis]\n",
    "yfit = model.predict(Xfit)\n",
    "\n",
    "plt.scatter(x, y)\n",
    "plt.plot(xfit, yfit);"
   ]
  },
  {
   "cell_type": "markdown",
   "metadata": {},
   "source": [
    "## Polynomial regression\n",
    "\n",
    "One way to adapt linear regression to nonlinear relationships between variables is to transform the data according to *basis functions*.\n",
    "\n",
    "The idea is to take the multidimensional linear model:\n",
    "$$\n",
    "y = a_0 + a_1 x_1 + a_2 x_2 + a_3 x_3 + \\cdots\n",
    "$$\n",
    "and build the $x_1, x_2, x_3,$ and so on, from our single-dimensional input $x$.\n",
    "That is, we let $x_n = f_n(x)$, where $f_n()$ is some function that transforms our data.\n",
    "\n",
    "For example, if $f_n(x) = x^n$, our model becomes a polynomial regression:\n",
    "$$\n",
    "y = a_0 + a_1 x + a_2 x^2 + a_3 x^3 + \\cdots\n",
    "$$\n",
    "Notice that this is *still a linear model*—the linearity refers to the fact that the coefficients $a_n$ never multiply or divide each other.\n",
    "What we have effectively done is taken our one-dimensional $x$ values and projected them into a higher dimension, so that a linear fit can fit more complicated relationships between $x$ and $y$.\n",
    "\n",
    "The code below shows a simple example of polynomial regression using the ``PolynomialFeatures`` transformer in scikit-learn. Concretely, it shows how we can use polynomial features with a polynomial of degree seven, i.e. $$y = a_0 + a_1 x + a_2 x^2 + a_3 x^3 + \\cdots + a_7 x^7$$ \n",
    "\n",
    "It also introduces the notion of a *pipeline* in scikit-learn. \"The purpose of the pipeline is to assemble several steps that can be cross-validated together while setting different parameters.\" (https://scikit-learn.org/stable/modules/generated/sklearn.pipeline.Pipeline.html) "
   ]
  },
  {
   "cell_type": "code",
   "execution_count": 9,
   "metadata": {},
   "outputs": [
    {
     "name": "stdout",
     "output_type": "stream",
     "text": [
      "The R^2 score for the fit is:  0.9806993128749502\n"
     ]
    },
    {
     "data": {
      "image/png": "[encoded data removed]",
      "text/plain": [
       "<Figure size 432x288 with 1 Axes>"
      ]
     },
     "metadata": {
      "needs_background": "light"
     },
     "output_type": "display_data"
    }
   ],
   "source": [
    "from sklearn.preprocessing import PolynomialFeatures\n",
    "from sklearn.pipeline import make_pipeline\n",
    "poly_model = make_pipeline(PolynomialFeatures(7),\n",
    "                           LinearRegression())\n",
    "\n",
    "rng = np.random.RandomState(1)\n",
    "x = 10 * rng.rand(100)\n",
    "y = np.sin(x) + 0.1 * rng.randn(100)\n",
    "\n",
    "poly_model.fit(x[:, np.newaxis], y)\n",
    "yfit = poly_model.predict(xfit[:, np.newaxis])\n",
    "plt.scatter(x, y)\n",
    "plt.plot(xfit, yfit);\n",
    "\n",
    "print('The R^2 score for the fit is: ', poly_model.score(x[:, np.newaxis], y))"
   ]
  },
  {
   "cell_type": "markdown",
   "metadata": {},
   "source": [
    "Our linear model, through the use of 7th-order polynomial basis functions, can provide an excellent fit to this non-linear data!"
   ]
  },
  {
   "cell_type": "markdown",
   "metadata": {
    "colab_type": "text",
    "id": "QtjTzR09-PyS"
   },
   "source": [
    "### Questions 1-3\n",
    "\n",
    "1. Which mathematical function was used to simulate the data points (with a bit of random noise around them)? \n",
    "2. Which degree/order was used for the polynomial basis functions?\n",
    "3. How good was the linear model fit to the non-linear data?\n"
   ]
  },
  {
   "cell_type": "markdown",
   "metadata": {
    "colab_type": "text",
    "id": "RRG5lAHB-PyV"
   },
   "source": [
    "## Solution"
   ]
  },
  {
   "cell_type": "markdown",
   "metadata": {
    "colab_type": "text",
    "id": "YxJNmDgn-PyW"
   },
   "source": [
    "1. The mathematical function was used to simulate the data points (with a bit of random noise around them) is rand() from class RandomState() (https://docs.scipy.org/doc/numpy-1.15.0/reference/generated/numpy.random.RandomState.html).\n",
    "2. The degree/order was used for the polynomial basis functions is 7 (PolynomialFeatures(7)).\n",
    "3. Through the use of basis functions, the linear model is pretty good fit to the non-linear data."
   ]
  },
  {
   "cell_type": "markdown",
   "metadata": {},
   "source": [
    "### Write code to find the best degree/order for the polynomial basis functions (between 1 and 15) by computing the quality of the fit using a suitable metric, in this case the $R^2$ coefficient (which can be computer using the `score()` function). \n",
    "\n",
    "Remember that **the best possible score is 1.0**. The score can be negative (because the model can be arbitrarily worse). A score of 0 suggests a constant model that always predicts the expected value of y, disregarding the input features.\n",
    "\n",
    "Hint: If you plot the score against the degree/order of the polynomial, you should see something like this:\n",
    "\n",
    "![data/download.png](data/download.png)"
   ]
  },
  {
   "cell_type": "markdown",
   "metadata": {
    "colab_type": "text",
    "id": "tdOZPjis7Phf"
   },
   "source": [
    "## Solution"
   ]
  },
  {
   "cell_type": "code",
   "execution_count": 10,
   "metadata": {
    "colab": {},
    "colab_type": "code",
    "id": "BQkN1WvQOKTi"
   },
   "outputs": [
    {
     "data": {
      "image/png": "[encoded data removed]",
      "text/plain": [
       "<Figure size 432x288 with 1 Axes>"
      ]
     },
     "metadata": {
      "needs_background": "light"
     },
     "output_type": "display_data"
    },
    {
     "name": "stdout",
     "output_type": "stream",
     "text": [
      " Degree       R^2\n",
      "      1  0.012172\n",
      "      2  0.200413\n",
      "      3  0.240103\n",
      "      4  0.901095\n",
      "      5  0.917898\n",
      "      6  0.980355\n",
      "      7  0.980699\n",
      "      8  0.981540\n",
      "      9  0.981556\n",
      "     10  0.981755\n",
      "     11  0.981759\n",
      "     12  0.981763\n",
      "     13  0.981942\n",
      "     14  0.981771\n",
      "     15  0.981292\n"
     ]
    }
   ],
   "source": [
    "# Write code to find the best degree/order for the polynomial basis functions (between 1 and 15) \n",
    "\n",
    "degrees = np.arange(1, 16, 1)\n",
    "count = degrees.shape[0]\n",
    "scores = np.empty(count)\n",
    "\n",
    "# for loop to compute the R^2 from different degree of the basis functions\n",
    "for i in range(count):\n",
    "    poly_model = make_pipeline(PolynomialFeatures(degrees[i]),LinearRegression())\n",
    "\n",
    "    rng = np.random.RandomState(1)\n",
    "    x = 10 * rng.rand(100)\n",
    "    y = np.sin(x) + 0.1 * rng.randn(100)\n",
    "\n",
    "    poly_model.fit(x[:, np.newaxis], y)\n",
    "    yfit = poly_model.predict(xfit[:, np.newaxis])\n",
    "    \n",
    "    # Stores the R^2 score\n",
    "    scores[i] = poly_model.score(x[:, np.newaxis], y)\n",
    "\n",
    "# Plot the degree of polynomial basis functions vs R^2\n",
    "R2_plot = plt.plot(degrees, scores)\n",
    "\n",
    "# Set the margins and label axes\n",
    "plt.margins(0.02)\n",
    "R2_plot = plt.xlabel('Degree of Polynomial Basis Functions')\n",
    "R2_plot = plt.ylabel('R^2')\n",
    "R2_plot = plt.title(\"Degree of Polynomial Basis Functions vs R^2\")\n",
    "\n",
    "# Show the plot\n",
    "plt.show();\n",
    "\n",
    "# Print the scores\n",
    "degree_R2 = pd.DataFrame({'Degree': degrees, 'R^2': scores }, columns=['Degree', 'R^2'])\n",
    "print(degree_R2.to_string(index=False))"
   ]
  },
  {
   "cell_type": "markdown",
   "metadata": {
    "colab_type": "text",
    "id": "QtjTzR09-PyS"
   },
   "source": [
    "### Questions 4-6\n",
    "\n",
    "4. Which degree/order polynomial produced the best fit (i.e., highest $R^2$ score)? \n",
    "5. Would you consider using the resulting polynomial as your model? Why (not)?\n",
    "6. If you answered 'no' to question 5 (as you should!), which degree would you choose for your polynomial regression model?\n"
   ]
  },
  {
   "cell_type": "markdown",
   "metadata": {
    "colab_type": "text",
    "id": "RRG5lAHB-PyV"
   },
   "source": [
    "## Solution"
   ]
  },
  {
   "cell_type": "markdown",
   "metadata": {
    "colab_type": "text",
    "id": "YxJNmDgn-PyW"
   },
   "source": [
    "4. The degree/order polynomial produced the best fit (i.e., highest  𝑅2  score) is degree 13 with the R^2 scores of 0.981942\n",
    "5. I would \"not\" consider using the resulting polynomial as my model because it is overfiting and unnecessary complex.\n",
    "6. The degree that I would choose for my polynomial regression model would be 6 since there is not that much difference in R^2 scores from polymonial degree 6 to degree 15 so choose the smallest out of them would be better."
   ]
  },
  {
   "cell_type": "markdown",
   "metadata": {},
   "source": [
    "## Part 4: Regularization\n",
    "\n",
    "The use of polynomial regression with high-order polynomials can very quickly lead to over-fitting. In this part, we will look into the use of regularization to address potential overfitting.\n",
    "\n",
    "The code below shows an attempt to fit a 15th degree polynomial to a sinusoidal shaped data. The fit is excellent ($R^2$ > 0.98), but might raise suspicions that it will lead to overfitting."
   ]
  },
  {
   "cell_type": "code",
   "execution_count": 11,
   "metadata": {},
   "outputs": [
    {
     "name": "stdout",
     "output_type": "stream",
     "text": [
      "0.9812918693173667\n"
     ]
    },
    {
     "data": {
      "image/png": "[encoded data removed]",
      "text/plain": [
       "<Figure size 432x288 with 1 Axes>"
      ]
     },
     "metadata": {
      "needs_background": "light"
     },
     "output_type": "display_data"
    }
   ],
   "source": [
    "model = make_pipeline(PolynomialFeatures(15),\n",
    "                      LinearRegression())\n",
    "model.fit(x[:, np.newaxis], y)\n",
    "\n",
    "plt.scatter(x, y)\n",
    "plt.plot(xfit, model.predict(xfit[:, np.newaxis]))\n",
    "\n",
    "plt.xlim(0, 10)\n",
    "plt.ylim(-1.5, 1.5);\n",
    "\n",
    "score = model.score(x[:, np.newaxis], y)\n",
    "print(score)"
   ]
  },
  {
   "cell_type": "markdown",
   "metadata": {},
   "source": [
    "### Write Python code to perform Ridge regression ($L_2$ Regularization), plot the resulting fit, and compute the $R^2$ score.\n",
    "\n",
    "Hints: \n",
    "1. This type of penalized model is built into Scikit-Learn with the ``Ridge`` estimator. \n",
    "2. In the beginning, use all default values for its parameters.\n",
    "3. After you get your code to work, spend some time trying to fine-tune the model, i.e., experimenting with the regularization parameters."
   ]
  },
  {
   "cell_type": "markdown",
   "metadata": {
    "colab_type": "text",
    "id": "tdOZPjis7Phf"
   },
   "source": [
    "## Solution"
   ]
  },
  {
   "cell_type": "code",
   "execution_count": 12,
   "metadata": {
    "colab": {},
    "colab_type": "code",
    "id": "BQkN1WvQOKTi"
   },
   "outputs": [
    {
     "name": "stdout",
     "output_type": "stream",
     "text": [
      "0.9789093227509013\n"
     ]
    },
    {
     "data": {
      "image/png": "[encoded data removed]",
      "text/plain": [
       "<Figure size 432x288 with 1 Axes>"
      ]
     },
     "metadata": {
      "needs_background": "light"
     },
     "output_type": "display_data"
    }
   ],
   "source": [
    "# Write Python code to perform Ridge regression (𝐿2  Regularization), \n",
    "# plot the resulting fit, and compute the 𝑅2  score.\n",
    "\n",
    "                            # Default values for Ridge paramters #\n",
    "    \n",
    "# https://scikit-learn.org/stable/modules/generated/sklearn.linear_model.Ridge.html\n",
    "from sklearn.linear_model import Ridge\n",
    "\n",
    "model = make_pipeline(PolynomialFeatures(15), Ridge())\n",
    "model.fit(x[:, np.newaxis], y)\n",
    "\n",
    "plt.scatter(x, y)\n",
    "plt.plot(xfit, model.predict(xfit[:, np.newaxis]))\n",
    "\n",
    "plt.xlim(0, 10)\n",
    "plt.ylim(-1.5, 1.5);\n",
    "\n",
    "score = model.score(x[:, np.newaxis], y)\n",
    "print(score)"
   ]
  },
  {
   "cell_type": "code",
   "execution_count": 13,
   "metadata": {},
   "outputs": [],
   "source": [
    "# Ignore Python warnings\n",
    "import warnings\n",
    "warnings.filterwarnings('ignore')\n",
    "\n",
    "# Method for printing the best R2 \n",
    "def bestR2(testPara_rangeValues, testPara_Name, scores):\n",
    "    \n",
    "     # Convert to Df and find the value of alpha for the largest R^2\n",
    "    df_result = pd.DataFrame({testPara_Name: testPara_rangeValues, 'R^2': scores}, \n",
    "                                 columns=[testPara_Name, 'R^2'])\n",
    "    best_result = df_result.loc[df_result['R^2'].idxmax()]\n",
    "\n",
    "    print(\"Print out the head() of dataframe:\\n\", df_result.head(), \"\\n\")\n",
    "    print(\"Scores for best result:\\n\",best_result)\n",
    "    \n",
    "    return best_result"
   ]
  },
  {
   "cell_type": "code",
   "execution_count": 14,
   "metadata": {},
   "outputs": [
    {
     "name": "stdout",
     "output_type": "stream",
     "text": [
      "Print out the head() of dataframe:\n",
      "    Alpha       R^2\n",
      "0   0.00  0.981882\n",
      "1   0.01  0.981669\n",
      "2   0.02  0.981646\n",
      "3   0.03  0.981623\n",
      "4   0.04  0.981596 \n",
      "\n",
      "Scores for best result:\n",
      " Alpha    0.000000\n",
      "R^2      0.981882\n",
      "Name: 0, dtype: float64\n"
     ]
    }
   ],
   "source": [
    "                                # Fine-tune the model #\n",
    "# alpha = Regularization strength; must be a positive float. Regularization improves\n",
    "# the conditioning of the problem and reduces the variance of the estimates\n",
    "\n",
    "alphas = np.arange(0.00, 10, 0.01)\n",
    "count = alphas.shape[0]\n",
    "scores = np.empty(count)\n",
    "\n",
    "for i in range(count):\n",
    "    model = make_pipeline(PolynomialFeatures(15), Ridge(alpha = alphas[i]))\n",
    "    model.fit(x[:, np.newaxis], y)\n",
    "\n",
    "    scores[i] = model.score(x[:, np.newaxis], y)\n",
    "    \n",
    "alpha_result = bestR2(alphas, \"Alpha\", scores);"
   ]
  },
  {
   "cell_type": "code",
   "execution_count": 15,
   "metadata": {},
   "outputs": [
    {
     "name": "stdout",
     "output_type": "stream",
     "text": [
      "Print out the head() of dataframe:\n",
      "     Tols       R^2\n",
      "0  0.000  0.981882\n",
      "1  0.001  0.981882\n",
      "2  0.002  0.981882\n",
      "3  0.003  0.981882\n",
      "4  0.004  0.981882 \n",
      "\n",
      "Scores for best result:\n",
      " Tols    0.000000\n",
      "R^2     0.981882\n",
      "Name: 0, dtype: float64\n"
     ]
    }
   ],
   "source": [
    "# tol : Precision of the solution\n",
    "\n",
    "tols = np.arange(0.000, 1, 0.001)\n",
    "count = tols.shape[0]\n",
    "scores = np.empty(count)\n",
    "\n",
    "for i in range(count):\n",
    "    model = make_pipeline(PolynomialFeatures(15), \n",
    "                          Ridge(alpha = alpha_result[\"Alpha\"], tol= tols[i]))\n",
    "    model.fit(x[:, np.newaxis], y)\n",
    "\n",
    "    scores[i] = model.score(x[:, np.newaxis], y)\n",
    "    \n",
    "tols_result = bestR2(tols, \"Tols\", scores);"
   ]
  },
  {
   "cell_type": "code",
   "execution_count": 16,
   "metadata": {},
   "outputs": [
    {
     "name": "stdout",
     "output_type": "stream",
     "text": [
      "Print out the head() of dataframe:\n",
      "       Solver       R^2\n",
      "0       auto  0.981882\n",
      "1        svd  0.981882\n",
      "2   cholesky  0.981882\n",
      "3       lsqr  0.362336\n",
      "4  sparse_cg  0.959739 \n",
      "\n",
      "Scores for best result:\n",
      " Solver        auto\n",
      "R^2       0.981882\n",
      "Name: 0, dtype: object\n"
     ]
    }
   ],
   "source": [
    "# solver: Solver to use in the computational routines\n",
    "\n",
    "solvers = [\"auto\", \"svd\", \"cholesky\", \"lsqr\", \"sparse_cg\", \"sag\", \"saga\"]\n",
    "count = len(solvers)\n",
    "scores = np.empty(count)\n",
    "\n",
    "for i in range(count):\n",
    "    model = make_pipeline(PolynomialFeatures(15),\n",
    "                          Ridge(alpha = alpha_result[\"Alpha\"],\n",
    "                                tol = tols_result[\"Tols\"],\n",
    "                                solver = solvers[i]))\n",
    "    model.fit(x[:, np.newaxis], y)\n",
    "\n",
    "    scores[i] = model.score(x[:, np.newaxis], y)\n",
    "    \n",
    "solver_result = bestR2(solvers, \"Solver\", scores);"
   ]
  },
  {
   "cell_type": "code",
   "execution_count": 17,
   "metadata": {},
   "outputs": [
    {
     "name": "stdout",
     "output_type": "stream",
     "text": [
      "Best value for R^2 is:  0.9818818069661602\n",
      "\talpha parameter:  0.0\n",
      "\ttols parameter:  0.0\n",
      "\tsolver parameter:  auto\n"
     ]
    }
   ],
   "source": [
    "# Result of Fine-tune Ridge Regularization\n",
    "print(\"Best value for R^2 is: \", solver_result[\"R^2\"])\n",
    "print(\"\\talpha parameter: \", alpha_result[\"Alpha\"])\n",
    "print(\"\\ttols parameter: \", tols_result[\"Tols\"])\n",
    "print(\"\\tsolver parameter: \", solver_result[\"Solver\"])"
   ]
  },
  {
   "cell_type": "markdown",
   "metadata": {},
   "source": [
    "### Write Python code to perform Lasso regression ($L_1$ Regularization), plot the resulting fit, and compute the $R^2$ score.\n",
    "\n",
    "Hints: \n",
    "1. This type of penalized model is built into Scikit-Learn with the ``Lasso`` estimator. \n",
    "2. In the beginning, use `Lasso(alpha=0.1, tol=0.2)`\n",
    "3. After you get your code to work, spend some time trying to fine-tune the model, i.e., experimenting with the regularization parameters."
   ]
  },
  {
   "cell_type": "markdown",
   "metadata": {
    "colab_type": "text",
    "id": "tdOZPjis7Phf"
   },
   "source": [
    "## Solution"
   ]
  },
  {
   "cell_type": "code",
   "execution_count": 18,
   "metadata": {
    "colab": {},
    "colab_type": "code",
    "id": "BQkN1WvQOKTi"
   },
   "outputs": [
    {
     "name": "stdout",
     "output_type": "stream",
     "text": [
      "0.6754347956467596\n"
     ]
    },
    {
     "data": {
      "image/png": "[encoded data removed]",
      "text/plain": [
       "<Figure size 432x288 with 1 Axes>"
      ]
     },
     "metadata": {
      "needs_background": "light"
     },
     "output_type": "display_data"
    }
   ],
   "source": [
    "# Write Python code to perform Lasso regression ( 𝐿1  Regularization), \n",
    "# plot the resulting fit, and compute the  𝑅2  score.\n",
    "\n",
    "                                # Lasso(alpha=0.1, tol=0.2) #\n",
    "    \n",
    "# https://scikit-learn.org/stable/modules/generated/sklearn.linear_model.Lasso.html\n",
    "from sklearn.linear_model import Lasso\n",
    "\n",
    "model = make_pipeline(PolynomialFeatures(15), Lasso(alpha=0.1, tol=0.2))\n",
    "model.fit(x[:, np.newaxis], y)\n",
    "\n",
    "plt.scatter(x, y)\n",
    "plt.plot(xfit, model.predict(xfit[:, np.newaxis]))\n",
    "\n",
    "plt.xlim(0, 10)\n",
    "plt.ylim(-1.5, 1.5);\n",
    "\n",
    "score = model.score(x[:, np.newaxis], y)\n",
    "print(score)"
   ]
  },
  {
   "cell_type": "code",
   "execution_count": 19,
   "metadata": {},
   "outputs": [
    {
     "name": "stdout",
     "output_type": "stream",
     "text": [
      "Print out the head() of dataframe:\n",
      "    Alpha       R^2\n",
      "0   0.00  0.750180\n",
      "1   0.01  0.755561\n",
      "2   0.02  0.752801\n",
      "3   0.03  0.751708\n",
      "4   0.04  0.752292 \n",
      "\n",
      "Scores for best result:\n",
      " Alpha    0.190000\n",
      "R^2      0.756348\n",
      "Name: 19, dtype: float64\n"
     ]
    }
   ],
   "source": [
    "                                # Fine-tune the model #\n",
    "# alpha = Constant that multiplies the L1 term. Defaults to 1.0. \n",
    "# alpha = 0 is equivalent to an ordinary least square, solved by the LinearRegression object. \n",
    "\n",
    "Lasso_alphas = np.arange(0.00, 10, 0.01)\n",
    "Lasso_count = Lasso_alphas.shape[0]\n",
    "Lasso_scores = np.empty(Lasso_count)\n",
    "\n",
    "for i in range(Lasso_count):\n",
    "    Lasso_model = make_pipeline(PolynomialFeatures(15), Lasso(alpha = Lasso_alphas[i]))\n",
    "    Lasso_model.fit(x[:, np.newaxis], y)\n",
    "\n",
    "    Lasso_scores[i] = Lasso_model.score(x[:, np.newaxis], y)\n",
    "    \n",
    "Lasso_alpha_result = bestR2(Lasso_alphas, \"Alpha\", Lasso_scores);"
   ]
  },
  {
   "cell_type": "code",
   "execution_count": 20,
   "metadata": {},
   "outputs": [
    {
     "name": "stdout",
     "output_type": "stream",
     "text": [
      "Print out the head() of dataframe:\n",
      "     Tols       R^2\n",
      "0  0.000  0.756348\n",
      "1  0.001  0.756348\n",
      "2  0.002  0.756348\n",
      "3  0.003  0.756348\n",
      "4  0.004  0.756348 \n",
      "\n",
      "Scores for best result:\n",
      " Tols    0.000000\n",
      "R^2     0.756348\n",
      "Name: 0, dtype: float64\n"
     ]
    }
   ],
   "source": [
    "# tol : The tolerance for the optimization: if the updates are smaller than tol,\n",
    "# the optimization code checks the dual gap for optimality and continues until it is smaller than tol\n",
    "\n",
    "Lasso_tols = np.arange(0.000, 1, 0.001)\n",
    "Lasso_count = Lasso_tols.shape[0]\n",
    "Lasso_scores = np.empty(Lasso_count)\n",
    "\n",
    "for i in range(Lasso_count):\n",
    "    Lasso_model = make_pipeline(PolynomialFeatures(15),\n",
    "                                Lasso(alpha = Lasso_alpha_result[\"Alpha\"], \n",
    "                                      tol= tols[i]))\n",
    "    Lasso_model.fit(x[:, np.newaxis], y)\n",
    "\n",
    "    Lasso_scores[i] = Lasso_model.score(x[:, np.newaxis], y)\n",
    "    \n",
    "Lasso_tols_result = bestR2(Lasso_tols, \"Tols\", Lasso_scores);"
   ]
  },
  {
   "cell_type": "code",
   "execution_count": 21,
   "metadata": {},
   "outputs": [
    {
     "name": "stdout",
     "output_type": "stream",
     "text": [
      "Best value for R^2 is:  0.7563477152115996\n",
      "\talpha parameter:  0.19\n",
      "\ttols parameter:  0.0\n"
     ]
    }
   ],
   "source": [
    "# Result of Fine-tune Lasso Regularization\n",
    "print(\"Best value for R^2 is: \", Lasso_tols_result[\"R^2\"])\n",
    "print(\"\\talpha parameter: \", Lasso_alpha_result[\"Alpha\"])\n",
    "print(\"\\ttols parameter: \", Lasso_tols_result[\"Tols\"])"
   ]
  },
  {
   "cell_type": "markdown",
   "metadata": {
    "colab_type": "text",
    "id": "QtjTzR09-PyS"
   },
   "source": [
    "### Question 7\n",
    "\n",
    "7. Which of the two regularization approaches produced a better fit (and was also the easiest to fine-tune)?\n"
   ]
  },
  {
   "cell_type": "markdown",
   "metadata": {
    "colab_type": "text",
    "id": "RRG5lAHB-PyV"
   },
   "source": [
    "## Solution"
   ]
  },
  {
   "cell_type": "markdown",
   "metadata": {
    "colab_type": "text",
    "id": "YxJNmDgn-PyW"
   },
   "source": [
    "7. The Ridge approach produced a better fit (and was also the easiest to fine-tune)"
   ]
  },
  {
   "cell_type": "markdown",
   "metadata": {},
   "source": [
    "### The Boston housing dataset is a classic dataset used in linear regression examples.\n",
    "(See https://scikit-learn.org/stable/datasets/index.html#boston-dataset for more)\n",
    "\n",
    "The Python code below:\n",
    "- Loads the Boston dataset (using scikit-learn's `load_boston()`) and converts it into a Pandas dataframe\n",
    "- Selects two features to be used for fitting a model that will then be used to make predictions: LSTAT (% lower status of the population) and RM (average number of rooms per dwelling) (\\*)\n",
    "- Splits the data into train and test sets\n",
    "\n",
    "(\\*) See https://towardsdatascience.com/linear-regression-on-boston-housing-dataset-f409b7e4a155 for details."
   ]
  },
  {
   "cell_type": "code",
   "execution_count": 22,
   "metadata": {},
   "outputs": [
    {
     "data": {
      "text/html": [
       "<div>\n",
       "<style scoped>\n",
       "    .dataframe tbody tr th:only-of-type {\n",
       "        vertical-align: middle;\n",
       "    }\n",
       "\n",
       "    .dataframe tbody tr th {\n",
       "        vertical-align: top;\n",
       "    }\n",
       "\n",
       "    .dataframe thead th {\n",
       "        text-align: right;\n",
       "    }\n",
       "</style>\n",
       "<table border=\"1\" class=\"dataframe\">\n",
       "  <thead>\n",
       "    <tr style=\"text-align: right;\">\n",
       "      <th></th>\n",
       "      <th>CRIM</th>\n",
       "      <th>ZN</th>\n",
       "      <th>INDUS</th>\n",
       "      <th>CHAS</th>\n",
       "      <th>NOX</th>\n",
       "      <th>RM</th>\n",
       "      <th>AGE</th>\n",
       "      <th>DIS</th>\n",
       "      <th>RAD</th>\n",
       "      <th>TAX</th>\n",
       "      <th>PTRATIO</th>\n",
       "      <th>B</th>\n",
       "      <th>LSTAT</th>\n",
       "    </tr>\n",
       "  </thead>\n",
       "  <tbody>\n",
       "    <tr>\n",
       "      <th>0</th>\n",
       "      <td>0.00632</td>\n",
       "      <td>18.0</td>\n",
       "      <td>2.31</td>\n",
       "      <td>0.0</td>\n",
       "      <td>0.538</td>\n",
       "      <td>6.575</td>\n",
       "      <td>65.2</td>\n",
       "      <td>4.0900</td>\n",
       "      <td>1.0</td>\n",
       "      <td>296.0</td>\n",
       "      <td>15.3</td>\n",
       "      <td>396.90</td>\n",
       "      <td>4.98</td>\n",
       "    </tr>\n",
       "    <tr>\n",
       "      <th>1</th>\n",
       "      <td>0.02731</td>\n",
       "      <td>0.0</td>\n",
       "      <td>7.07</td>\n",
       "      <td>0.0</td>\n",
       "      <td>0.469</td>\n",
       "      <td>6.421</td>\n",
       "      <td>78.9</td>\n",
       "      <td>4.9671</td>\n",
       "      <td>2.0</td>\n",
       "      <td>242.0</td>\n",
       "      <td>17.8</td>\n",
       "      <td>396.90</td>\n",
       "      <td>9.14</td>\n",
       "    </tr>\n",
       "    <tr>\n",
       "      <th>2</th>\n",
       "      <td>0.02729</td>\n",
       "      <td>0.0</td>\n",
       "      <td>7.07</td>\n",
       "      <td>0.0</td>\n",
       "      <td>0.469</td>\n",
       "      <td>7.185</td>\n",
       "      <td>61.1</td>\n",
       "      <td>4.9671</td>\n",
       "      <td>2.0</td>\n",
       "      <td>242.0</td>\n",
       "      <td>17.8</td>\n",
       "      <td>392.83</td>\n",
       "      <td>4.03</td>\n",
       "    </tr>\n",
       "    <tr>\n",
       "      <th>3</th>\n",
       "      <td>0.03237</td>\n",
       "      <td>0.0</td>\n",
       "      <td>2.18</td>\n",
       "      <td>0.0</td>\n",
       "      <td>0.458</td>\n",
       "      <td>6.998</td>\n",
       "      <td>45.8</td>\n",
       "      <td>6.0622</td>\n",
       "      <td>3.0</td>\n",
       "      <td>222.0</td>\n",
       "      <td>18.7</td>\n",
       "      <td>394.63</td>\n",
       "      <td>2.94</td>\n",
       "    </tr>\n",
       "    <tr>\n",
       "      <th>4</th>\n",
       "      <td>0.06905</td>\n",
       "      <td>0.0</td>\n",
       "      <td>2.18</td>\n",
       "      <td>0.0</td>\n",
       "      <td>0.458</td>\n",
       "      <td>7.147</td>\n",
       "      <td>54.2</td>\n",
       "      <td>6.0622</td>\n",
       "      <td>3.0</td>\n",
       "      <td>222.0</td>\n",
       "      <td>18.7</td>\n",
       "      <td>396.90</td>\n",
       "      <td>5.33</td>\n",
       "    </tr>\n",
       "  </tbody>\n",
       "</table>\n",
       "</div>"
      ],
      "text/plain": [
       "      CRIM    ZN  INDUS  CHAS    NOX     RM   AGE     DIS  RAD    TAX  \\\n",
       "0  0.00632  18.0   2.31   0.0  0.538  6.575  65.2  4.0900  1.0  296.0   \n",
       "1  0.02731   0.0   7.07   0.0  0.469  6.421  78.9  4.9671  2.0  242.0   \n",
       "2  0.02729   0.0   7.07   0.0  0.469  7.185  61.1  4.9671  2.0  242.0   \n",
       "3  0.03237   0.0   2.18   0.0  0.458  6.998  45.8  6.0622  3.0  222.0   \n",
       "4  0.06905   0.0   2.18   0.0  0.458  7.147  54.2  6.0622  3.0  222.0   \n",
       "\n",
       "   PTRATIO       B  LSTAT  \n",
       "0     15.3  396.90   4.98  \n",
       "1     17.8  396.90   9.14  \n",
       "2     17.8  392.83   4.03  \n",
       "3     18.7  394.63   2.94  \n",
       "4     18.7  396.90   5.33  "
      ]
     },
     "execution_count": 22,
     "metadata": {},
     "output_type": "execute_result"
    }
   ],
   "source": [
    "from sklearn.datasets import load_boston\n",
    "boston_dataset = load_boston()\n",
    "boston = pd.DataFrame(boston_dataset.data, columns=boston_dataset.feature_names)\n",
    "boston.head()"
   ]
  },
  {
   "cell_type": "code",
   "execution_count": 23,
   "metadata": {},
   "outputs": [
    {
     "name": "stdout",
     "output_type": "stream",
     "text": [
      "(404, 2)\n",
      "(102, 2)\n",
      "(404,)\n",
      "(102,)\n"
     ]
    }
   ],
   "source": [
    "boston['MEDV'] = boston_dataset.target\n",
    "X = pd.DataFrame(np.c_[boston['LSTAT'], boston['RM']], columns = ['LSTAT','RM'])\n",
    "y = boston['MEDV']\n",
    "\n",
    "from sklearn.model_selection import train_test_split\n",
    "\n",
    "X_train, X_test, y_train, y_test = train_test_split(X, y, test_size = 0.2, random_state=5)\n",
    "print(X_train.shape)\n",
    "print(X_test.shape)\n",
    "print(y_train.shape)\n",
    "print(y_test.shape)"
   ]
  },
  {
   "cell_type": "markdown",
   "metadata": {},
   "source": [
    "### Write Python code to:\n",
    "\n",
    "1. Fit a linear model to the data.\n",
    "2. Compute and print the RMSE and $R^2$ score for both train and test datasets.\n",
    "3. Fit a polynomial model (of degree 4) to the data.\n",
    "4. Compute and print the RMSE and $R^2$ score for both train and test datasets.\n",
    "5. Apply Ridge regression to the polynomial model.\n",
    "4. Compute and print the RMSE and $R^2$ score for both train and test datasets."
   ]
  },
  {
   "cell_type": "markdown",
   "metadata": {
    "colab_type": "text",
    "id": "tdOZPjis7Phf"
   },
   "source": [
    "## Solution"
   ]
  },
  {
   "cell_type": "code",
   "execution_count": 24,
   "metadata": {},
   "outputs": [],
   "source": [
    "# https://scikit-learn.org/stable/modules/generated/sklearn.linear_model.LinearRegression.html\n",
    "# https://scikit-learn.org/stable/modules/generated/sklearn.metrics.mean_squared_error.html\n",
    "from sklearn.metrics import mean_squared_error\n",
    "\n",
    "# Method for computing the R^2 score and RMSE\n",
    "def compute_RMSE_R2(model, x, y):\n",
    "    model_predicted = model.predict(x)\n",
    "    RMSE = np.sqrt(mean_squared_error(y, model_predicted))\n",
    "    \n",
    "    R2_score = model.score(x, y)\n",
    "    \n",
    "    return RMSE, R2_score\n",
    "\n",
    "# Method for printing the R^2 score and RMSE\n",
    "def print_RMSE_R2(dataset, RMSE, R2):\n",
    "    print(\"\\n\", dataset, \":\")\n",
    "    print(\"\\tRMSE: \", np.round(RMSE, decimals=5))\n",
    "    print(\"\\tR^2 Score: \", np.round(R2, decimals=5))"
   ]
  },
  {
   "cell_type": "code",
   "execution_count": 25,
   "metadata": {},
   "outputs": [
    {
     "name": "stdout",
     "output_type": "stream",
     "text": [
      "The model coefficient: [-0.71723  4.58939]\n",
      "The model intercept: 2.73624\n",
      "\n",
      " Train dataset :\n",
      "\tRMSE:  5.63713\n",
      "\tR^2 Score:  0.63007\n",
      "\n",
      " Test dataset :\n",
      "\tRMSE:  5.1374\n",
      "\tR^2 Score:  0.6629\n"
     ]
    }
   ],
   "source": [
    "# 1. Fit a linear model to the data.\n",
    "\n",
    "linearModel = LinearRegression(fit_intercept=True)\n",
    "linearModel.fit(X_train, y_train)\n",
    "print(\"The model coefficient:\", np.round(linearModel.coef_, decimals=5))\n",
    "print(\"The model intercept:\", np.round(linearModel.intercept_, decimals=5))\n",
    "\n",
    "# 2. Compute and print the RMSE and  𝑅^2  score for both train and test datasets.\n",
    "\n",
    "                    # Train dataset # \n",
    "linearModel_RMSE_train, R2_train = compute_RMSE_R2(linearModel, X_train, y_train)\n",
    "print_RMSE_R2(\"Train dataset\", linearModel_RMSE_train, R2_train)\n",
    "\n",
    "                    # Test dataset # \n",
    "linearModel_RMSE_test, R2_test = compute_RMSE_R2(linearModel, X_test, y_test)\n",
    "print_RMSE_R2(\"Test dataset\", linearModel_RMSE_test, R2_test)"
   ]
  },
  {
   "cell_type": "code",
   "execution_count": 26,
   "metadata": {},
   "outputs": [
    {
     "name": "stdout",
     "output_type": "stream",
     "text": [
      "The model coefficient: [ 0.0000000e+00 -3.1362190e+01  7.2092388e+02  1.3326300e+00\n",
      "  5.8113200e+00 -2.0042324e+02 -2.6890000e-02 -1.9577000e-01\n",
      " -3.7540000e-02  2.3001170e+01  2.0000000e-04  2.0500000e-03\n",
      "  5.6600000e-03 -3.0020000e-02 -9.3687000e-01]\n",
      "The model intercept: -823.69808\n",
      "\n",
      " Train dataset :\n",
      "\tRMSE:  4.27608\n",
      "\tR^2 Score:  0.78714\n",
      "\n",
      " Test dataset :\n",
      "\tRMSE:  3.88859\n",
      "\tR^2 Score:  0.80687\n"
     ]
    }
   ],
   "source": [
    "# 3. Fit a polynomial model (of degree 4) to the data\n",
    "\n",
    "polyModel = make_pipeline(PolynomialFeatures(4), LinearRegression())\n",
    "polyModel.fit(X_train, y_train)\n",
    "print(\"The model coefficient:\", np.round(polyModel.steps[1][1].coef_,decimals=5))\n",
    "print(\"The model intercept:\", np.round(polyModel.steps[1][1].intercept_,decimals=5))\n",
    "\n",
    "# 4. Compute and print the RMSE and  R2 score for both train and test datasets.\n",
    "\n",
    "                        # Train dataset # \n",
    "polyModel_RMSE_train, R2_train = compute_RMSE_R2(polyModel, X_train, y_train)\n",
    "print_RMSE_R2(\"Train dataset\", polyModel_RMSE_train, R2_train)\n",
    "\n",
    "                        # Test dataset # \n",
    "polyModel_RMSE_test, R2_test = compute_RMSE_R2(polyModel, X_test, y_test)\n",
    "print_RMSE_R2(\"Test dataset\", polyModel_RMSE_test, R2_test)"
   ]
  },
  {
   "cell_type": "code",
   "execution_count": 27,
   "metadata": {},
   "outputs": [
    {
     "name": "stdout",
     "output_type": "stream",
     "text": [
      "The model coefficient: [ 0.00000e+00 -2.22783e+00 -1.35035e+00 -9.01300e-02  7.86700e-02\n",
      " -8.07646e+00 -1.10000e-02  1.35520e-01 -1.19800e-01  1.68489e+00\n",
      "  1.70000e-04 -2.00000e-04 -1.15400e-02  1.06300e-02 -9.02500e-02]\n",
      "The model intercept: 90.39622\n",
      "\n",
      " Train dataset :\n",
      "\tRMSE:  4.46837\n",
      "\tR^2 Score:  0.76757\n",
      "\n",
      " Test dataset :\n",
      "\tRMSE:  3.91879\n",
      "\tR^2 Score:  0.80385\n"
     ]
    }
   ],
   "source": [
    "# 5. Apply Ridge regression to the polynomial model.\n",
    "\n",
    "ridgeModel = make_pipeline(PolynomialFeatures(4), Ridge())\n",
    "ridgeModel.fit(X_train, y_train)\n",
    "print(\"The model coefficient:\", np.round(ridgeModel.steps[1][1].coef_,decimals=5))\n",
    "print(\"The model intercept:\",  np.round(ridgeModel.steps[1][1].intercept_,decimals=5))\n",
    "\n",
    "\n",
    "# 6. Compute and print the RMSE and  𝑅2  score for both train and test datasets.\n",
    "\n",
    "                    # Train dataset # \n",
    "ridgeModel_RMSE_train, R2_train = compute_RMSE_R2(ridgeModel, X_train, y_train)\n",
    "print_RMSE_R2(\"Train dataset\", ridgeModel_RMSE_train, R2_train)\n",
    "\n",
    "                    # Test dataset # \n",
    "ridgeModel_RMSE_test, R2_test = compute_RMSE_R2(ridgeModel, X_test, y_test)\n",
    "print_RMSE_R2(\"Test dataset\", ridgeModel_RMSE_test, R2_test)"
   ]
  }
 ],
 "metadata": {
  "colab": {
   "collapsed_sections": [
    "Sf9JB_ntOKTg"
   ],
   "name": "CAP5768_Assignment1.ipynb",
   "provenance": [],
   "version": "0.3.2"
  },
  "kernelspec": {
   "display_name": "Python 3",
   "language": "python",
   "name": "python3"
  },
  "language_info": {
   "codemirror_mode": {
    "name": "ipython",
    "version": 3
   },
   "file_extension": ".py",
   "mimetype": "text/x-python",
   "name": "python",
   "nbconvert_exporter": "python",
   "pygments_lexer": "ipython3",
   "version": "3.7.3"
  }
 },
 "nbformat": 4,
 "nbformat_minor": 1
}
