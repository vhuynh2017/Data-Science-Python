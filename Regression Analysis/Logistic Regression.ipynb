{
 "cells": [
  {
   "cell_type": "markdown",
   "metadata": {},
   "source": [
    "# Logistic Regression \n",
    "The short script aims to help getting acquainted with Logistic Regression using Scikit-learn and Tensorflow Keras API (Linear Regression as an extra section)"
   ]
  },
  {
   "cell_type": "markdown",
   "metadata": {},
   "source": [
    "### Logistic Regression:\n",
    "* Useful for binary classification problems (two classes).\n",
    "* It models the probability of the default class.\n",
    "* The logistic regression model uses the logistic function (also known as sigmoid) to squeeze the output of a linear equation between 0 and 1 which turn it into a probability.\n",
    "\n",
    "For more info:\n",
    "* https://christophm.github.io/interpretable-ml-book/logistic.html\n",
    "* https://medium.com/@luwei.io/logistic-regression-with-keras-d75d640d175e\n",
    "* https://machinelearningmastery.com/logistic-regression-for-machine-learning/\n",
    "* https://subscription.packtpub.com/book/big_data_and_business_intelligence/9781789132212/1/ch01lvl1sec15/logistic-regression-with-keras\n",
    "* https://scikit-learn.org/stable/auto_examples/linear_model/plot_ols.html"
   ]
  },
  {
   "cell_type": "markdown",
   "metadata": {},
   "source": [
    "## Step 1: Setup"
   ]
  },
  {
   "cell_type": "code",
   "execution_count": 1,
   "metadata": {},
   "outputs": [],
   "source": [
    "# Imports\n",
    "import numpy as np\n",
    "import matplotlib.pyplot as plt\n",
    "import pandas as pd\n",
    "%matplotlib inline\n",
    "import seaborn as sns; sns.set()\n",
    "\n",
    "# Tensorflow\n",
    "import tensorflow as tf"
   ]
  },
  {
   "cell_type": "markdown",
   "metadata": {},
   "source": [
    "## Step 2: Load and Visual the Data"
   ]
  },
  {
   "cell_type": "code",
   "execution_count": 2,
   "metadata": {},
   "outputs": [],
   "source": [
    "# https://scikit-learn.org/stable/modules/generated/sklearn.datasets.load_breast_cancer.html\n",
    "from sklearn.datasets import load_breast_cancer\n",
    "\n",
    "# Load in the data\n",
    "data = load_breast_cancer()"
   ]
  },
  {
   "cell_type": "code",
   "execution_count": 3,
   "metadata": {},
   "outputs": [
    {
     "name": "stdout",
     "output_type": "stream",
     "text": [
      "Features: (569, 30)\n",
      "Target: (569,)\n"
     ]
    }
   ],
   "source": [
    "# Features & Target Shape\n",
    "print(\"Features:\", data.data.shape)\n",
    "print(\"Target:\", data.target.shape)"
   ]
  },
  {
   "cell_type": "code",
   "execution_count": 4,
   "metadata": {},
   "outputs": [
    {
     "name": "stdout",
     "output_type": "stream",
     "text": [
      "Features Name: ['mean radius' 'mean texture' 'mean perimeter' 'mean area'\n",
      " 'mean smoothness' 'mean compactness' 'mean concavity'\n",
      " 'mean concave points' 'mean symmetry' 'mean fractal dimension'\n",
      " 'radius error' 'texture error' 'perimeter error' 'area error'\n",
      " 'smoothness error' 'compactness error' 'concavity error'\n",
      " 'concave points error' 'symmetry error' 'fractal dimension error'\n",
      " 'worst radius' 'worst texture' 'worst perimeter' 'worst area'\n",
      " 'worst smoothness' 'worst compactness' 'worst concavity'\n",
      " 'worst concave points' 'worst symmetry' 'worst fractal dimension']\n",
      "\n",
      "Target Name: ['malignant' 'benign']\n"
     ]
    }
   ],
   "source": [
    "# Features & Target Names\n",
    "print(\"Features Name:\", data.feature_names)\n",
    "print(\"\\nTarget Name:\", data.target_names)\n",
    "\n",
    "input_size = len(data.feature_names)"
   ]
  },
  {
   "cell_type": "markdown",
   "metadata": {},
   "source": [
    "## Step 3: Data Preprocessing"
   ]
  },
  {
   "cell_type": "code",
   "execution_count": 5,
   "metadata": {},
   "outputs": [
    {
     "name": "stdout",
     "output_type": "stream",
     "text": [
      "X_train shape: (398, 30)\n",
      "X_test shape: (171, 30)\n"
     ]
    }
   ],
   "source": [
    "# https://scikit-learn.org/stable/modules/generated/sklearn.model_selection.train_test_split.html\n",
    "from sklearn.model_selection import train_test_split\n",
    "\n",
    "# Split the dataset into train (70%) and test (30%)\n",
    "X_train, X_test, y_train, y_test = train_test_split(data.data, data.target, test_size=0.3)\n",
    "\n",
    "print(\"X_train shape:\", X_train.shape)\n",
    "print(\"X_test shape:\", X_test.shape)"
   ]
  },
  {
   "cell_type": "code",
   "execution_count": 6,
   "metadata": {},
   "outputs": [],
   "source": [
    "# https://scikit-learn.org/stable/modules/generated/sklearn.preprocessing.StandardScaler.html\n",
    "from sklearn.preprocessing import StandardScaler\n",
    "\n",
    "# Scale the data\n",
    "scaler = StandardScaler()\n",
    "X_train = scaler.fit_transform(X_train)\n",
    "X_test = scaler.transform(X_test)"
   ]
  },
  {
   "cell_type": "markdown",
   "metadata": {},
   "source": [
    "## Step 4:  Logistic Regression using Scikit-learn "
   ]
  },
  {
   "cell_type": "code",
   "execution_count": 7,
   "metadata": {},
   "outputs": [],
   "source": [
    "# https://scikit-learn.org/stable/modules/generated/sklearn.linear_model.LogisticRegression.html\n",
    "from sklearn.linear_model import LogisticRegression\n",
    "\n",
    "# Initialized and train the model\n",
    "SL_clf = LogisticRegression(random_state=42).fit(X_train, y_train)"
   ]
  },
  {
   "cell_type": "code",
   "execution_count": 8,
   "metadata": {},
   "outputs": [
    {
     "data": {
      "text/plain": [
       "0.9899497487437185"
      ]
     },
     "execution_count": 8,
     "metadata": {},
     "output_type": "execute_result"
    }
   ],
   "source": [
    "# Evaluate Performance on the training set\n",
    "SL_clf.score(X_train, y_train)"
   ]
  },
  {
   "cell_type": "markdown",
   "metadata": {},
   "source": [
    "### Use the trained model to make prediction"
   ]
  },
  {
   "cell_type": "code",
   "execution_count": 9,
   "metadata": {},
   "outputs": [
    {
     "data": {
      "text/plain": [
       "array([[5.13852956e-04, 9.99486147e-01],\n",
       "       [9.99720245e-01, 2.79754675e-04],\n",
       "       [6.22863137e-01, 3.77136863e-01],\n",
       "       [5.43165588e-01, 4.56834412e-01],\n",
       "       [8.59286570e-01, 1.40713430e-01],\n",
       "       [1.92284635e-03, 9.98077154e-01],\n",
       "       [2.48345031e-02, 9.75165497e-01],\n",
       "       [1.66261332e-03, 9.98337387e-01],\n",
       "       [7.79639390e-02, 9.22036061e-01],\n",
       "       [8.69623062e-06, 9.99991304e-01]])"
      ]
     },
     "execution_count": 9,
     "metadata": {},
     "output_type": "execute_result"
    }
   ],
   "source": [
    "# Probability estimates: Probability of the sample for each class in the model\n",
    "# Row 1: [probablity for class 0, probability for class 1]\n",
    "SL_clf.predict_proba(X_test[:10])"
   ]
  },
  {
   "cell_type": "code",
   "execution_count": 10,
   "metadata": {},
   "outputs": [
    {
     "data": {
      "text/plain": [
       "array([1, 0, 0, 0, 0, 1, 1, 1, 1, 1])"
      ]
     },
     "execution_count": 10,
     "metadata": {},
     "output_type": "execute_result"
    }
   ],
   "source": [
    "# Predict class labels for samples in X (first 10)\n",
    "SL_clf.predict(X_test[:10])"
   ]
  },
  {
   "cell_type": "code",
   "execution_count": 11,
   "metadata": {},
   "outputs": [
    {
     "data": {
      "text/plain": [
       "array([1, 0, 0, 0, 0, 1, 1, 1, 0, 1])"
      ]
     },
     "execution_count": 11,
     "metadata": {},
     "output_type": "execute_result"
    }
   ],
   "source": [
    "# Actual class label of the test samples (first 10)\n",
    "y_test[:10]"
   ]
  },
  {
   "cell_type": "code",
   "execution_count": 12,
   "metadata": {},
   "outputs": [
    {
     "data": {
      "text/plain": [
       "0.9883040935672515"
      ]
     },
     "execution_count": 12,
     "metadata": {},
     "output_type": "execute_result"
    }
   ],
   "source": [
    "# Evaluate Performance on test set\n",
    "SL_clf.score(X_test, y_test)"
   ]
  },
  {
   "cell_type": "markdown",
   "metadata": {},
   "source": [
    "## Step 4:  Logistic Regression using Tensorflow with Keras API"
   ]
  },
  {
   "cell_type": "code",
   "execution_count": 13,
   "metadata": {},
   "outputs": [],
   "source": [
    "# https://www.tensorflow.org/api_docs/python/tf/keras/callbacks/LearningRateScheduler\n",
    "\n",
    "# Learning Rate Scheduler (reduce the learning rate in later iteration/epoch)\n",
    "def scheduler(epoch, lr):\n",
    "    if epoch >= 75:\n",
    "        return 0.0001\n",
    "    \n",
    "    return 0.001"
   ]
  },
  {
   "cell_type": "code",
   "execution_count": 14,
   "metadata": {},
   "outputs": [
    {
     "name": "stdout",
     "output_type": "stream",
     "text": [
      "Train on 398 samples, validate on 171 samples\n",
      "Epoch 1/100\n",
      "398/398 [==============================] - 2s 4ms/sample - loss: 0.7002 - accuracy: 0.5528 - val_loss: 0.6830 - val_accuracy: 0.5673\n",
      "Epoch 2/100\n",
      "398/398 [==============================] - 0s 606us/sample - loss: 0.6306 - accuracy: 0.6583 - val_loss: 0.6219 - val_accuracy: 0.6316\n",
      "Epoch 3/100\n",
      "398/398 [==============================] - 0s 569us/sample - loss: 0.5721 - accuracy: 0.7161 - val_loss: 0.5694 - val_accuracy: 0.6901\n",
      "Epoch 4/100\n",
      "398/398 [==============================] - 0s 604us/sample - loss: 0.5221 - accuracy: 0.7613 - val_loss: 0.5249 - val_accuracy: 0.7368\n",
      "Epoch 5/100\n",
      "398/398 [==============================] - 0s 604us/sample - loss: 0.4807 - accuracy: 0.7965 - val_loss: 0.4865 - val_accuracy: 0.7602\n",
      "Epoch 6/100\n",
      "398/398 [==============================] - 0s 603us/sample - loss: 0.4449 - accuracy: 0.8342 - val_loss: 0.4542 - val_accuracy: 0.7895\n",
      "Epoch 7/100\n",
      "398/398 [==============================] - 0s 606us/sample - loss: 0.4150 - accuracy: 0.8543 - val_loss: 0.4265 - val_accuracy: 0.8304\n",
      "Epoch 8/100\n",
      "398/398 [==============================] - 0s 607us/sample - loss: 0.3897 - accuracy: 0.8543 - val_loss: 0.4026 - val_accuracy: 0.8480\n",
      "Epoch 9/100\n",
      "398/398 [==============================] - 0s 605us/sample - loss: 0.3676 - accuracy: 0.8693 - val_loss: 0.3819 - val_accuracy: 0.8538\n",
      "Epoch 10/100\n",
      "398/398 [==============================] - 0s 588us/sample - loss: 0.3485 - accuracy: 0.8693 - val_loss: 0.3638 - val_accuracy: 0.8538\n",
      "Epoch 11/100\n",
      "398/398 [==============================] - 0s 603us/sample - loss: 0.3314 - accuracy: 0.8769 - val_loss: 0.3476 - val_accuracy: 0.8655\n",
      "Epoch 12/100\n",
      "398/398 [==============================] - 0s 602us/sample - loss: 0.3162 - accuracy: 0.8894 - val_loss: 0.3331 - val_accuracy: 0.8655\n",
      "Epoch 13/100\n",
      "398/398 [==============================] - 0s 602us/sample - loss: 0.3026 - accuracy: 0.8995 - val_loss: 0.3197 - val_accuracy: 0.8713\n",
      "Epoch 14/100\n",
      "398/398 [==============================] - 0s 564us/sample - loss: 0.2901 - accuracy: 0.9045 - val_loss: 0.3080 - val_accuracy: 0.8713\n",
      "Epoch 15/100\n",
      "398/398 [==============================] - 0s 604us/sample - loss: 0.2789 - accuracy: 0.9070 - val_loss: 0.2972 - val_accuracy: 0.8772\n",
      "Epoch 16/100\n",
      "398/398 [==============================] - 0s 371us/sample - loss: 0.2687 - accuracy: 0.9146 - val_loss: 0.2874 - val_accuracy: 0.8772\n",
      "Epoch 17/100\n",
      "398/398 [==============================] - 0s 276us/sample - loss: 0.2595 - accuracy: 0.9196 - val_loss: 0.2782 - val_accuracy: 0.8772\n",
      "Epoch 18/100\n",
      "398/398 [==============================] - 0s 276us/sample - loss: 0.2508 - accuracy: 0.9271 - val_loss: 0.2700 - val_accuracy: 0.8889\n",
      "Epoch 19/100\n",
      "398/398 [==============================] - 0s 278us/sample - loss: 0.2427 - accuracy: 0.9271 - val_loss: 0.2623 - val_accuracy: 0.8947\n",
      "Epoch 20/100\n",
      "398/398 [==============================] - 0s 277us/sample - loss: 0.2354 - accuracy: 0.9271 - val_loss: 0.2551 - val_accuracy: 0.8947\n",
      "Epoch 21/100\n",
      "398/398 [==============================] - 0s 283us/sample - loss: 0.2284 - accuracy: 0.9296 - val_loss: 0.2487 - val_accuracy: 0.8947\n",
      "Epoch 22/100\n",
      "398/398 [==============================] - 0s 284us/sample - loss: 0.2220 - accuracy: 0.9296 - val_loss: 0.2424 - val_accuracy: 0.9006\n",
      "Epoch 23/100\n",
      "398/398 [==============================] - 0s 279us/sample - loss: 0.2161 - accuracy: 0.9322 - val_loss: 0.2366 - val_accuracy: 0.9064\n",
      "Epoch 24/100\n",
      "398/398 [==============================] - 0s 278us/sample - loss: 0.2103 - accuracy: 0.9397 - val_loss: 0.2310 - val_accuracy: 0.9123\n",
      "Epoch 25/100\n",
      "398/398 [==============================] - 0s 280us/sample - loss: 0.2049 - accuracy: 0.9397 - val_loss: 0.2258 - val_accuracy: 0.9123\n",
      "Epoch 26/100\n",
      "398/398 [==============================] - 0s 278us/sample - loss: 0.1999 - accuracy: 0.9397 - val_loss: 0.2211 - val_accuracy: 0.9123\n",
      "Epoch 27/100\n",
      "398/398 [==============================] - 0s 278us/sample - loss: 0.1953 - accuracy: 0.9397 - val_loss: 0.2159 - val_accuracy: 0.9181\n",
      "Epoch 28/100\n",
      "398/398 [==============================] - 0s 278us/sample - loss: 0.1905 - accuracy: 0.9397 - val_loss: 0.2114 - val_accuracy: 0.9181\n",
      "Epoch 29/100\n",
      "398/398 [==============================] - 0s 276us/sample - loss: 0.1862 - accuracy: 0.9397 - val_loss: 0.2075 - val_accuracy: 0.9181\n",
      "Epoch 30/100\n",
      "398/398 [==============================] - 0s 278us/sample - loss: 0.1822 - accuracy: 0.9422 - val_loss: 0.2036 - val_accuracy: 0.9240\n",
      "Epoch 31/100\n",
      "398/398 [==============================] - 0s 284us/sample - loss: 0.1784 - accuracy: 0.9422 - val_loss: 0.1999 - val_accuracy: 0.9240\n",
      "Epoch 32/100\n",
      "398/398 [==============================] - 0s 281us/sample - loss: 0.1747 - accuracy: 0.9422 - val_loss: 0.1965 - val_accuracy: 0.9298\n",
      "Epoch 33/100\n",
      "398/398 [==============================] - 0s 281us/sample - loss: 0.1713 - accuracy: 0.9447 - val_loss: 0.1932 - val_accuracy: 0.9357\n",
      "Epoch 34/100\n",
      "398/398 [==============================] - 0s 281us/sample - loss: 0.1681 - accuracy: 0.9497 - val_loss: 0.1899 - val_accuracy: 0.9357\n",
      "Epoch 35/100\n",
      "398/398 [==============================] - 0s 276us/sample - loss: 0.1649 - accuracy: 0.9497 - val_loss: 0.1869 - val_accuracy: 0.9357\n",
      "Epoch 36/100\n",
      "398/398 [==============================] - 0s 283us/sample - loss: 0.1619 - accuracy: 0.9497 - val_loss: 0.1841 - val_accuracy: 0.9357\n",
      "Epoch 37/100\n",
      "398/398 [==============================] - 0s 273us/sample - loss: 0.1591 - accuracy: 0.9497 - val_loss: 0.1812 - val_accuracy: 0.9357\n",
      "Epoch 38/100\n",
      "398/398 [==============================] - 0s 277us/sample - loss: 0.1564 - accuracy: 0.9497 - val_loss: 0.1787 - val_accuracy: 0.9415\n",
      "Epoch 39/100\n",
      "398/398 [==============================] - 0s 276us/sample - loss: 0.1538 - accuracy: 0.9523 - val_loss: 0.1763 - val_accuracy: 0.9415\n",
      "Epoch 40/100\n",
      "398/398 [==============================] - 0s 271us/sample - loss: 0.1515 - accuracy: 0.9523 - val_loss: 0.1739 - val_accuracy: 0.9415\n",
      "Epoch 41/100\n",
      "398/398 [==============================] - 0s 278us/sample - loss: 0.1490 - accuracy: 0.9573 - val_loss: 0.1716 - val_accuracy: 0.9415\n",
      "Epoch 42/100\n",
      "398/398 [==============================] - 0s 274us/sample - loss: 0.1468 - accuracy: 0.9573 - val_loss: 0.1694 - val_accuracy: 0.9474\n",
      "Epoch 43/100\n",
      "398/398 [==============================] - 0s 281us/sample - loss: 0.1446 - accuracy: 0.9573 - val_loss: 0.1673 - val_accuracy: 0.9474\n",
      "Epoch 44/100\n",
      "398/398 [==============================] - 0s 277us/sample - loss: 0.1426 - accuracy: 0.9573 - val_loss: 0.1652 - val_accuracy: 0.9532\n",
      "Epoch 45/100\n",
      "398/398 [==============================] - 0s 276us/sample - loss: 0.1406 - accuracy: 0.9598 - val_loss: 0.1635 - val_accuracy: 0.9591\n",
      "Epoch 46/100\n",
      "398/398 [==============================] - 0s 276us/sample - loss: 0.1387 - accuracy: 0.9598 - val_loss: 0.1615 - val_accuracy: 0.9591\n",
      "Epoch 47/100\n",
      "398/398 [==============================] - 0s 272us/sample - loss: 0.1368 - accuracy: 0.9598 - val_loss: 0.1597 - val_accuracy: 0.9591\n",
      "Epoch 48/100\n",
      "398/398 [==============================] - 0s 276us/sample - loss: 0.1351 - accuracy: 0.9598 - val_loss: 0.1581 - val_accuracy: 0.9591\n",
      "Epoch 49/100\n",
      "398/398 [==============================] - 0s 276us/sample - loss: 0.1334 - accuracy: 0.9623 - val_loss: 0.1563 - val_accuracy: 0.9591\n",
      "Epoch 50/100\n",
      "398/398 [==============================] - 0s 281us/sample - loss: 0.1318 - accuracy: 0.9623 - val_loss: 0.1547 - val_accuracy: 0.9591\n",
      "Epoch 51/100\n",
      "398/398 [==============================] - 0s 273us/sample - loss: 0.1302 - accuracy: 0.9623 - val_loss: 0.1531 - val_accuracy: 0.9649\n",
      "Epoch 52/100\n",
      "398/398 [==============================] - 0s 274us/sample - loss: 0.1287 - accuracy: 0.9623 - val_loss: 0.1516 - val_accuracy: 0.9649\n",
      "Epoch 53/100\n",
      "398/398 [==============================] - 0s 279us/sample - loss: 0.1273 - accuracy: 0.9623 - val_loss: 0.1502 - val_accuracy: 0.9649\n",
      "Epoch 54/100\n",
      "398/398 [==============================] - 0s 278us/sample - loss: 0.1259 - accuracy: 0.9648 - val_loss: 0.1489 - val_accuracy: 0.9649\n",
      "Epoch 55/100\n",
      "398/398 [==============================] - 0s 278us/sample - loss: 0.1246 - accuracy: 0.9648 - val_loss: 0.1475 - val_accuracy: 0.9649\n",
      "Epoch 56/100\n"
     ]
    },
    {
     "name": "stdout",
     "output_type": "stream",
     "text": [
      "398/398 [==============================] - 0s 273us/sample - loss: 0.1232 - accuracy: 0.9673 - val_loss: 0.1462 - val_accuracy: 0.9649\n",
      "Epoch 57/100\n",
      "398/398 [==============================] - 0s 269us/sample - loss: 0.1219 - accuracy: 0.9673 - val_loss: 0.1449 - val_accuracy: 0.9649\n",
      "Epoch 58/100\n",
      "398/398 [==============================] - 0s 273us/sample - loss: 0.1207 - accuracy: 0.9673 - val_loss: 0.1436 - val_accuracy: 0.9649\n",
      "Epoch 59/100\n",
      "398/398 [==============================] - 0s 273us/sample - loss: 0.1195 - accuracy: 0.9673 - val_loss: 0.1423 - val_accuracy: 0.9649\n",
      "Epoch 60/100\n",
      "398/398 [==============================] - 0s 275us/sample - loss: 0.1183 - accuracy: 0.9673 - val_loss: 0.1412 - val_accuracy: 0.9649\n",
      "Epoch 61/100\n",
      "398/398 [==============================] - 0s 276us/sample - loss: 0.1172 - accuracy: 0.9673 - val_loss: 0.1400 - val_accuracy: 0.9649\n",
      "Epoch 62/100\n",
      "398/398 [==============================] - 0s 272us/sample - loss: 0.1161 - accuracy: 0.9673 - val_loss: 0.1389 - val_accuracy: 0.9649\n",
      "Epoch 63/100\n",
      "398/398 [==============================] - 0s 273us/sample - loss: 0.1150 - accuracy: 0.9673 - val_loss: 0.1379 - val_accuracy: 0.9649\n",
      "Epoch 64/100\n",
      "398/398 [==============================] - 0s 273us/sample - loss: 0.1140 - accuracy: 0.9673 - val_loss: 0.1368 - val_accuracy: 0.9649\n",
      "Epoch 65/100\n",
      "398/398 [==============================] - 0s 276us/sample - loss: 0.1130 - accuracy: 0.9673 - val_loss: 0.1357 - val_accuracy: 0.9649\n",
      "Epoch 66/100\n",
      "398/398 [==============================] - 0s 276us/sample - loss: 0.1120 - accuracy: 0.9673 - val_loss: 0.1348 - val_accuracy: 0.9708\n",
      "Epoch 67/100\n",
      "398/398 [==============================] - 0s 273us/sample - loss: 0.1110 - accuracy: 0.9673 - val_loss: 0.1339 - val_accuracy: 0.9708\n",
      "Epoch 68/100\n",
      "398/398 [==============================] - 0s 273us/sample - loss: 0.1101 - accuracy: 0.9673 - val_loss: 0.1331 - val_accuracy: 0.9708\n",
      "Epoch 69/100\n",
      "398/398 [==============================] - 0s 276us/sample - loss: 0.1092 - accuracy: 0.9673 - val_loss: 0.1322 - val_accuracy: 0.9708\n",
      "Epoch 70/100\n",
      "398/398 [==============================] - 0s 278us/sample - loss: 0.1083 - accuracy: 0.9673 - val_loss: 0.1313 - val_accuracy: 0.9708\n",
      "Epoch 71/100\n",
      "398/398 [==============================] - 0s 278us/sample - loss: 0.1075 - accuracy: 0.9673 - val_loss: 0.1303 - val_accuracy: 0.9708\n",
      "Epoch 72/100\n",
      "398/398 [==============================] - 0s 271us/sample - loss: 0.1067 - accuracy: 0.9673 - val_loss: 0.1295 - val_accuracy: 0.9708\n",
      "Epoch 73/100\n",
      "398/398 [==============================] - 0s 278us/sample - loss: 0.1059 - accuracy: 0.9673 - val_loss: 0.1287 - val_accuracy: 0.9708\n",
      "Epoch 74/100\n",
      "398/398 [==============================] - 0s 274us/sample - loss: 0.1051 - accuracy: 0.9673 - val_loss: 0.1279 - val_accuracy: 0.9708\n",
      "Epoch 75/100\n",
      "398/398 [==============================] - 0s 276us/sample - loss: 0.1043 - accuracy: 0.9673 - val_loss: 0.1272 - val_accuracy: 0.9708\n",
      "Epoch 76/100\n",
      "398/398 [==============================] - 0s 273us/sample - loss: 0.1038 - accuracy: 0.9673 - val_loss: 0.1271 - val_accuracy: 0.9708\n",
      "Epoch 77/100\n",
      "398/398 [==============================] - 0s 276us/sample - loss: 0.1037 - accuracy: 0.9673 - val_loss: 0.1270 - val_accuracy: 0.9708\n",
      "Epoch 78/100\n",
      "398/398 [==============================] - 0s 272us/sample - loss: 0.1037 - accuracy: 0.9673 - val_loss: 0.1269 - val_accuracy: 0.9708\n",
      "Epoch 79/100\n",
      "398/398 [==============================] - 0s 270us/sample - loss: 0.1036 - accuracy: 0.9673 - val_loss: 0.1269 - val_accuracy: 0.9708\n",
      "Epoch 80/100\n",
      "398/398 [==============================] - 0s 291us/sample - loss: 0.1035 - accuracy: 0.9673 - val_loss: 0.1268 - val_accuracy: 0.9708\n",
      "Epoch 81/100\n",
      "398/398 [==============================] - 0s 271us/sample - loss: 0.1034 - accuracy: 0.9673 - val_loss: 0.1267 - val_accuracy: 0.9708\n",
      "Epoch 82/100\n",
      "398/398 [==============================] - 0s 278us/sample - loss: 0.1034 - accuracy: 0.9673 - val_loss: 0.1266 - val_accuracy: 0.9708\n",
      "Epoch 83/100\n",
      "398/398 [==============================] - 0s 273us/sample - loss: 0.1033 - accuracy: 0.9673 - val_loss: 0.1266 - val_accuracy: 0.9708\n",
      "Epoch 84/100\n",
      "398/398 [==============================] - 0s 279us/sample - loss: 0.1032 - accuracy: 0.9673 - val_loss: 0.1265 - val_accuracy: 0.9708\n",
      "Epoch 85/100\n",
      "398/398 [==============================] - 0s 273us/sample - loss: 0.1031 - accuracy: 0.9673 - val_loss: 0.1264 - val_accuracy: 0.9708\n",
      "Epoch 86/100\n",
      "398/398 [==============================] - 0s 273us/sample - loss: 0.1030 - accuracy: 0.9673 - val_loss: 0.1263 - val_accuracy: 0.9708\n",
      "Epoch 87/100\n",
      "398/398 [==============================] - 0s 276us/sample - loss: 0.1030 - accuracy: 0.9673 - val_loss: 0.1262 - val_accuracy: 0.9708\n",
      "Epoch 88/100\n",
      "398/398 [==============================] - 0s 271us/sample - loss: 0.1029 - accuracy: 0.9673 - val_loss: 0.1261 - val_accuracy: 0.9708\n",
      "Epoch 89/100\n",
      "398/398 [==============================] - 0s 280us/sample - loss: 0.1028 - accuracy: 0.9673 - val_loss: 0.1261 - val_accuracy: 0.9708\n",
      "Epoch 90/100\n",
      "398/398 [==============================] - 0s 273us/sample - loss: 0.1027 - accuracy: 0.9673 - val_loss: 0.1260 - val_accuracy: 0.9708\n",
      "Epoch 91/100\n",
      "398/398 [==============================] - 0s 281us/sample - loss: 0.1026 - accuracy: 0.9673 - val_loss: 0.1259 - val_accuracy: 0.9708\n",
      "Epoch 92/100\n",
      "398/398 [==============================] - 0s 276us/sample - loss: 0.1026 - accuracy: 0.9673 - val_loss: 0.1258 - val_accuracy: 0.9708\n",
      "Epoch 93/100\n",
      "398/398 [==============================] - 0s 268us/sample - loss: 0.1025 - accuracy: 0.9673 - val_loss: 0.1257 - val_accuracy: 0.9708\n",
      "Epoch 94/100\n",
      "398/398 [==============================] - 0s 277us/sample - loss: 0.1024 - accuracy: 0.9673 - val_loss: 0.1256 - val_accuracy: 0.9708\n",
      "Epoch 95/100\n",
      "398/398 [==============================] - 0s 278us/sample - loss: 0.1023 - accuracy: 0.9673 - val_loss: 0.1255 - val_accuracy: 0.9708\n",
      "Epoch 96/100\n",
      "398/398 [==============================] - 0s 268us/sample - loss: 0.1022 - accuracy: 0.9673 - val_loss: 0.1255 - val_accuracy: 0.9708\n",
      "Epoch 97/100\n",
      "398/398 [==============================] - 0s 276us/sample - loss: 0.1021 - accuracy: 0.9673 - val_loss: 0.1254 - val_accuracy: 0.9708\n",
      "Epoch 98/100\n",
      "398/398 [==============================] - 0s 278us/sample - loss: 0.1021 - accuracy: 0.9673 - val_loss: 0.1253 - val_accuracy: 0.9708\n",
      "Epoch 99/100\n",
      "398/398 [==============================] - 0s 273us/sample - loss: 0.1020 - accuracy: 0.9673 - val_loss: 0.1252 - val_accuracy: 0.9708\n",
      "Epoch 100/100\n",
      "398/398 [==============================] - 0s 280us/sample - loss: 0.1019 - accuracy: 0.9673 - val_loss: 0.1251 - val_accuracy: 0.9708\n"
     ]
    }
   ],
   "source": [
    "# https://www.tensorflow.org/api_docs/python/tf/keras/Sequential\n",
    "\n",
    "# Create the model\n",
    "TF_clf = tf.keras.models.Sequential([\n",
    "    tf.keras.layers.Input(shape=(input_size,)),\n",
    "    tf.keras.layers.Dense(1, activation='sigmoid')\n",
    "])\n",
    "\n",
    "# Compile the model\n",
    "TF_clf.compile(optimizer='adam', loss='binary_crossentropy', metrics=['accuracy'])\n",
    "\n",
    "# Initialize the callback\n",
    "callback= tf.keras.callbacks.LearningRateScheduler(scheduler)\n",
    "\n",
    "# Train the model\n",
    "TF_history = TF_clf.fit(X_train, y_train, validation_data=(X_test, y_test), epochs=100, callbacks=[callback])"
   ]
  },
  {
   "cell_type": "markdown",
   "metadata": {},
   "source": [
    "#### Note: Tensorflow for Linear Regression\n",
    "Very similar to the logistic regression above except:\n",
    "1. There will be no activation function in the final Dense layer\n",
    "2. Use loss 'mse' for rather than metric 'accuracy' in logistic case (predicting value => rarely getting exact value)\n",
    "3. Don't really need the 'validation_data' since we are trying to fit it as much as possible to our dataset"
   ]
  },
  {
   "cell_type": "code",
   "execution_count": 15,
   "metadata": {},
   "outputs": [],
   "source": [
    "# Linear Regression Case\n",
    "\n",
    "# TF_LRmodel = tf.keras.models.Sequential([\n",
    "#     tf.keras.layers.Input(shape=(input_size,)),\n",
    "#     tf.keras.layers.Dense(1)\n",
    "# ])\n",
    "\n",
    "# TF_LRmodel.compile(optimizer='sdg', loss=['mse'])\n",
    "# TF_LRhistory = TF_LRmodel.fit(X_train, y_train, epochs=100, callbacks=[callback])"
   ]
  },
  {
   "cell_type": "code",
   "execution_count": 16,
   "metadata": {},
   "outputs": [
    {
     "name": "stdout",
     "output_type": "stream",
     "text": [
      "398/398 [==============================] - 0s 148us/sample - loss: 0.1018 - accuracy: 0.9673\n",
      "Train score: [0.10184986073168079, 0.96733665]\n",
      "171/171 [==============================] - 0s 167us/sample - loss: 0.1251 - accuracy: 0.9708\n",
      "Test score: [0.12510709891542357, 0.9707602]\n"
     ]
    }
   ],
   "source": [
    "# Evaluate the model [loss, accuracy]\n",
    "print(\"Train score:\", TF_clf.evaluate(X_train, y_train))\n",
    "print(\"Test score:\", TF_clf.evaluate(X_test, y_test))"
   ]
  },
  {
   "cell_type": "code",
   "execution_count": 17,
   "metadata": {},
   "outputs": [
    {
     "data": {
      "text/plain": [
       "<matplotlib.legend.Legend at 0x1c1f118f8c8>"
      ]
     },
     "execution_count": 17,
     "metadata": {},
     "output_type": "execute_result"
    },
    {
     "data": {
      "image/png": "[encoded data removed]",
      "text/plain": [
       "<Figure size 432x288 with 1 Axes>"
      ]
     },
     "metadata": {},
     "output_type": "display_data"
    }
   ],
   "source": [
    "# Plot the Loss Learning Curve\n",
    "plt.plot(TF_history.history['loss'], label='loss')\n",
    "plt.plot(TF_history.history['val_loss'], label='val_loss')\n",
    "plt.legend()"
   ]
  },
  {
   "cell_type": "code",
   "execution_count": 18,
   "metadata": {},
   "outputs": [
    {
     "data": {
      "text/plain": [
       "<matplotlib.legend.Legend at 0x1c1efb10108>"
      ]
     },
     "execution_count": 18,
     "metadata": {},
     "output_type": "execute_result"
    },
    {
     "data": {
      "image/png": "[encoded data removed]",
      "text/plain": [
       "<Figure size 432x288 with 1 Axes>"
      ]
     },
     "metadata": {},
     "output_type": "display_data"
    }
   ],
   "source": [
    "# Plot the Accuracy Learning Curve\n",
    "plt.plot(TF_history.history['accuracy'], label='acc')\n",
    "plt.plot(TF_history.history['val_accuracy'], label='val_acc')\n",
    "plt.legend()"
   ]
  },
  {
   "cell_type": "code",
   "execution_count": 19,
   "metadata": {},
   "outputs": [
    {
     "name": "stdout",
     "output_type": "stream",
     "text": [
      "[[0.99041873]\n",
      " [0.00590421]\n",
      " [0.45349172]\n",
      " [0.57642406]\n",
      " [0.20680642]\n",
      " [0.86462116]\n",
      " [0.94015604]\n",
      " [0.9569233 ]\n",
      " [0.82896084]\n",
      " [0.99707425]]\n"
     ]
    }
   ],
   "source": [
    "# Make Samples prediction (sigmoid => probabilities p(y = 1 | x): probability of the default class)\n",
    "predicted = TF_clf.predict(X_test[:10])\n",
    "print(predicted)"
   ]
  },
  {
   "cell_type": "code",
   "execution_count": 20,
   "metadata": {},
   "outputs": [
    {
     "name": "stdout",
     "output_type": "stream",
     "text": [
      "[1. 0. 0. 1. 0. 1. 1. 1. 1. 1.]\n"
     ]
    }
   ],
   "source": [
    "# Get the actual prediction (class label)\n",
    "predicted = np.round(predicted).flatten()\n",
    "print(predicted)"
   ]
  },
  {
   "cell_type": "code",
   "execution_count": 21,
   "metadata": {},
   "outputs": [
    {
     "name": "stdout",
     "output_type": "stream",
     "text": [
      "Manually calculated accuracy: 0.9707602339181286\n",
      "171/171 [==============================] - 0s 175us/sample - loss: 0.1251 - accuracy: 0.9708\n",
      "\n",
      "Evaluate output: [0.12510709891542357, 0.9707602]\n"
     ]
    }
   ],
   "source": [
    "# Calculate the accuracy, compare it to evaluate() output\n",
    "predicted_labels = TF_clf.predict(X_test).round().flatten()\n",
    "print(\"Manually calculated accuracy:\", np.mean(predicted_labels == y_test))\n",
    "print(\"\\nEvaluate output:\", TF_clf.evaluate(X_test, y_test))"
   ]
  },
  {
   "cell_type": "markdown",
   "metadata": {},
   "source": [
    "### Save and Load model\n",
    "https://www.tensorflow.org/api_docs/python/tf/keras/models/load_model"
   ]
  },
  {
   "cell_type": "code",
   "execution_count": 22,
   "metadata": {},
   "outputs": [],
   "source": [
    "# Save the model\n",
    "TF_clf.save('TF_LRclassifier.h5')"
   ]
  },
  {
   "cell_type": "code",
   "execution_count": 23,
   "metadata": {},
   "outputs": [
    {
     "name": "stdout",
     "output_type": "stream",
     "text": [
      "171/171 [==============================] - 0s 910us/sample - loss: 0.1251 - accuracy: 0.9708\n"
     ]
    },
    {
     "data": {
      "text/plain": [
       "[0.12510709891542357, 0.9707602]"
      ]
     },
     "execution_count": 23,
     "metadata": {},
     "output_type": "execute_result"
    }
   ],
   "source": [
    "# Load the model and check with the test dataset\n",
    "model = tf.keras.models.load_model('TF_LRclassifier.h5')\n",
    "model.evaluate(X_test, y_test)"
   ]
  },
  {
   "cell_type": "markdown",
   "metadata": {},
   "source": [
    "## [EXTRA] Linear Regression with Tensorflow and Keras API\n",
    "Proof of concept only! Still need more preprocessing"
   ]
  },
  {
   "cell_type": "code",
   "execution_count": 24,
   "metadata": {},
   "outputs": [
    {
     "data": {
      "text/html": [
       "<div>\n",
       "<style scoped>\n",
       "    .dataframe tbody tr th:only-of-type {\n",
       "        vertical-align: middle;\n",
       "    }\n",
       "\n",
       "    .dataframe tbody tr th {\n",
       "        vertical-align: top;\n",
       "    }\n",
       "\n",
       "    .dataframe thead th {\n",
       "        text-align: right;\n",
       "    }\n",
       "</style>\n",
       "<table border=\"1\" class=\"dataframe\">\n",
       "  <thead>\n",
       "    <tr style=\"text-align: right;\">\n",
       "      <th></th>\n",
       "      <th>age</th>\n",
       "      <th>sex</th>\n",
       "      <th>bmi</th>\n",
       "      <th>bp</th>\n",
       "      <th>s1</th>\n",
       "      <th>s2</th>\n",
       "      <th>s3</th>\n",
       "      <th>s4</th>\n",
       "      <th>s5</th>\n",
       "      <th>s6</th>\n",
       "    </tr>\n",
       "  </thead>\n",
       "  <tbody>\n",
       "    <tr>\n",
       "      <th>0</th>\n",
       "      <td>0.038076</td>\n",
       "      <td>0.050680</td>\n",
       "      <td>0.061696</td>\n",
       "      <td>0.021872</td>\n",
       "      <td>-0.044223</td>\n",
       "      <td>-0.034821</td>\n",
       "      <td>-0.043401</td>\n",
       "      <td>-0.002592</td>\n",
       "      <td>0.019908</td>\n",
       "      <td>-0.017646</td>\n",
       "    </tr>\n",
       "    <tr>\n",
       "      <th>1</th>\n",
       "      <td>-0.001882</td>\n",
       "      <td>-0.044642</td>\n",
       "      <td>-0.051474</td>\n",
       "      <td>-0.026328</td>\n",
       "      <td>-0.008449</td>\n",
       "      <td>-0.019163</td>\n",
       "      <td>0.074412</td>\n",
       "      <td>-0.039493</td>\n",
       "      <td>-0.068330</td>\n",
       "      <td>-0.092204</td>\n",
       "    </tr>\n",
       "    <tr>\n",
       "      <th>2</th>\n",
       "      <td>0.085299</td>\n",
       "      <td>0.050680</td>\n",
       "      <td>0.044451</td>\n",
       "      <td>-0.005671</td>\n",
       "      <td>-0.045599</td>\n",
       "      <td>-0.034194</td>\n",
       "      <td>-0.032356</td>\n",
       "      <td>-0.002592</td>\n",
       "      <td>0.002864</td>\n",
       "      <td>-0.025930</td>\n",
       "    </tr>\n",
       "    <tr>\n",
       "      <th>3</th>\n",
       "      <td>-0.089063</td>\n",
       "      <td>-0.044642</td>\n",
       "      <td>-0.011595</td>\n",
       "      <td>-0.036656</td>\n",
       "      <td>0.012191</td>\n",
       "      <td>0.024991</td>\n",
       "      <td>-0.036038</td>\n",
       "      <td>0.034309</td>\n",
       "      <td>0.022692</td>\n",
       "      <td>-0.009362</td>\n",
       "    </tr>\n",
       "    <tr>\n",
       "      <th>4</th>\n",
       "      <td>0.005383</td>\n",
       "      <td>-0.044642</td>\n",
       "      <td>-0.036385</td>\n",
       "      <td>0.021872</td>\n",
       "      <td>0.003935</td>\n",
       "      <td>0.015596</td>\n",
       "      <td>0.008142</td>\n",
       "      <td>-0.002592</td>\n",
       "      <td>-0.031991</td>\n",
       "      <td>-0.046641</td>\n",
       "    </tr>\n",
       "  </tbody>\n",
       "</table>\n",
       "</div>"
      ],
      "text/plain": [
       "        age       sex       bmi        bp        s1        s2        s3  \\\n",
       "0  0.038076  0.050680  0.061696  0.021872 -0.044223 -0.034821 -0.043401   \n",
       "1 -0.001882 -0.044642 -0.051474 -0.026328 -0.008449 -0.019163  0.074412   \n",
       "2  0.085299  0.050680  0.044451 -0.005671 -0.045599 -0.034194 -0.032356   \n",
       "3 -0.089063 -0.044642 -0.011595 -0.036656  0.012191  0.024991 -0.036038   \n",
       "4  0.005383 -0.044642 -0.036385  0.021872  0.003935  0.015596  0.008142   \n",
       "\n",
       "         s4        s5        s6  \n",
       "0 -0.002592  0.019908 -0.017646  \n",
       "1 -0.039493 -0.068330 -0.092204  \n",
       "2 -0.002592  0.002864 -0.025930  \n",
       "3  0.034309  0.022692 -0.009362  \n",
       "4 -0.002592 -0.031991 -0.046641  "
      ]
     },
     "execution_count": 24,
     "metadata": {},
     "output_type": "execute_result"
    }
   ],
   "source": [
    "# https://scikit-learn.org/stable/modules/generated/sklearn.datasets.load_diabetes.html\n",
    "from sklearn.datasets import load_diabetes\n",
    "\n",
    "# Load the dataset\n",
    "diabetes = load_diabetes()\n",
    "\n",
    "# Create Dataframe for easy inspection of features and first few row of the data\n",
    "df = pd.DataFrame(diabetes.data, columns=diabetes.feature_names)\n",
    "df.head()"
   ]
  },
  {
   "cell_type": "code",
   "execution_count": 25,
   "metadata": {},
   "outputs": [
    {
     "name": "stdout",
     "output_type": "stream",
     "text": [
      "Features: (442, 10)\n",
      "Target: (442,)\n"
     ]
    }
   ],
   "source": [
    "# Features & Target Shape\n",
    "print(\"Features:\", diabetes.data.shape)\n",
    "print(\"Target:\", diabetes.target.shape)"
   ]
  },
  {
   "cell_type": "code",
   "execution_count": 26,
   "metadata": {},
   "outputs": [
    {
     "name": "stdout",
     "output_type": "stream",
     "text": [
      "X_train shape: (397, 10)\n",
      "X_test shape: (45, 10)\n"
     ]
    }
   ],
   "source": [
    "# Split the dataset into train (90%) and test (10%)\n",
    "diabetes_X_train, diabetes_X_test, diabetes_y_train, diabetes_y_test = train_test_split(diabetes.data, diabetes.target,\n",
    "                                                                                        test_size=0.1)\n",
    "\n",
    "print(\"X_train shape:\", diabetes_X_train.shape)\n",
    "print(\"X_test shape:\", diabetes_X_test.shape)"
   ]
  },
  {
   "cell_type": "code",
   "execution_count": 27,
   "metadata": {},
   "outputs": [],
   "source": [
    "# Use only the BMI feature (third column) rather than all 10 features (so we can plot them later)\n",
    "reduced_diabetes_X_train = diabetes_X_train[:, np.newaxis, 2]\n",
    "reduced_diabetes_X_test = diabetes_X_test[:, np.newaxis, 2]"
   ]
  },
  {
   "cell_type": "code",
   "execution_count": 28,
   "metadata": {},
   "outputs": [
    {
     "name": "stdout",
     "output_type": "stream",
     "text": [
      "Train on 397 samples\n",
      "Epoch 1/100\n",
      "397/397 [==============================] - 1s 1ms/sample - loss: 24796.9056\n",
      "Epoch 2/100\n",
      "397/397 [==============================] - 0s 148us/sample - loss: 17001.8967\n",
      "Epoch 3/100\n",
      "397/397 [==============================] - 0s 143us/sample - loss: 12449.5066\n",
      "Epoch 4/100\n",
      "397/397 [==============================] - 0s 146us/sample - loss: 9792.3272\n",
      "Epoch 5/100\n",
      "397/397 [==============================] - 0s 146us/sample - loss: 8221.4339\n",
      "Epoch 6/100\n",
      "397/397 [==============================] - 0s 143us/sample - loss: 7213.4034\n",
      "Epoch 7/100\n",
      "397/397 [==============================] - 0s 153us/sample - loss: 6652.6643\n",
      "Epoch 8/100\n",
      "397/397 [==============================] - 0s 148us/sample - loss: 6326.3692\n",
      "Epoch 9/100\n",
      "397/397 [==============================] - 0s 146us/sample - loss: 6119.5930\n",
      "Epoch 10/100\n",
      "397/397 [==============================] - 0s 146us/sample - loss: 6020.9401\n",
      "Epoch 11/100\n",
      "397/397 [==============================] - 0s 156us/sample - loss: 5947.5658\n",
      "Epoch 12/100\n",
      "397/397 [==============================] - 0s 148us/sample - loss: 5906.8952\n",
      "Epoch 13/100\n",
      "397/397 [==============================] - 0s 146us/sample - loss: 5879.3910\n",
      "Epoch 14/100\n",
      "397/397 [==============================] - 0s 143us/sample - loss: 5855.7871\n",
      "Epoch 15/100\n",
      "397/397 [==============================] - 0s 146us/sample - loss: 5850.2790\n",
      "Epoch 16/100\n",
      "397/397 [==============================] - 0s 161us/sample - loss: 5843.7853\n",
      "Epoch 17/100\n",
      "397/397 [==============================] - 0s 166us/sample - loss: 5838.1718\n",
      "Epoch 18/100\n",
      "397/397 [==============================] - 0s 163us/sample - loss: 5835.4050\n",
      "Epoch 19/100\n",
      "397/397 [==============================] - 0s 156us/sample - loss: 5830.5495\n",
      "Epoch 20/100\n",
      "397/397 [==============================] - 0s 148us/sample - loss: 5825.2773\n",
      "Epoch 21/100\n",
      "397/397 [==============================] - 0s 148us/sample - loss: 5826.1605\n",
      "Epoch 22/100\n",
      "397/397 [==============================] - 0s 146us/sample - loss: 5819.6931\n",
      "Epoch 23/100\n",
      "397/397 [==============================] - 0s 146us/sample - loss: 5817.7014\n",
      "Epoch 24/100\n",
      "397/397 [==============================] - 0s 146us/sample - loss: 5817.6231\n",
      "Epoch 25/100\n",
      "397/397 [==============================] - 0s 144us/sample - loss: 5813.1534\n",
      "Epoch 26/100\n",
      "397/397 [==============================] - 0s 151us/sample - loss: 5812.6607\n",
      "Epoch 27/100\n",
      "397/397 [==============================] - 0s 143us/sample - loss: 5808.1846\n",
      "Epoch 28/100\n",
      "397/397 [==============================] - 0s 148us/sample - loss: 5805.8361\n",
      "Epoch 29/100\n",
      "397/397 [==============================] - 0s 146us/sample - loss: 5802.1387\n",
      "Epoch 30/100\n",
      "397/397 [==============================] - 0s 146us/sample - loss: 5799.8113\n",
      "Epoch 31/100\n",
      "397/397 [==============================] - 0s 156us/sample - loss: 5800.0758\n",
      "Epoch 32/100\n",
      "397/397 [==============================] - 0s 148us/sample - loss: 5801.3753\n",
      "Epoch 33/100\n",
      "397/397 [==============================] - 0s 153us/sample - loss: 5796.3389\n",
      "Epoch 34/100\n",
      "397/397 [==============================] - 0s 148us/sample - loss: 5791.3914\n",
      "Epoch 35/100\n",
      "397/397 [==============================] - 0s 141us/sample - loss: 5790.7115\n",
      "Epoch 36/100\n",
      "397/397 [==============================] - 0s 151us/sample - loss: 5785.9312\n",
      "Epoch 37/100\n",
      "397/397 [==============================] - 0s 146us/sample - loss: 5785.3433\n",
      "Epoch 38/100\n",
      "397/397 [==============================] - 0s 146us/sample - loss: 5783.5965\n",
      "Epoch 39/100\n",
      "397/397 [==============================] - 0s 146us/sample - loss: 5778.4249\n",
      "Epoch 40/100\n",
      "397/397 [==============================] - 0s 143us/sample - loss: 5775.7627\n",
      "Epoch 41/100\n",
      "397/397 [==============================] - 0s 148us/sample - loss: 5778.6430\n",
      "Epoch 42/100\n",
      "397/397 [==============================] - 0s 151us/sample - loss: 5772.4635\n",
      "Epoch 43/100\n",
      "397/397 [==============================] - 0s 153us/sample - loss: 5769.8298\n",
      "Epoch 44/100\n",
      "397/397 [==============================] - 0s 146us/sample - loss: 5766.9125\n",
      "Epoch 45/100\n",
      "397/397 [==============================] - 0s 151us/sample - loss: 5766.3755\n",
      "Epoch 46/100\n",
      "397/397 [==============================] - 0s 146us/sample - loss: 5763.6466\n",
      "Epoch 47/100\n",
      "397/397 [==============================] - 0s 146us/sample - loss: 5760.2716\n",
      "Epoch 48/100\n",
      "397/397 [==============================] - 0s 143us/sample - loss: 5760.2804\n",
      "Epoch 49/100\n",
      "397/397 [==============================] - 0s 146us/sample - loss: 5755.8139\n",
      "Epoch 50/100\n",
      "397/397 [==============================] - 0s 146us/sample - loss: 5754.1574\n",
      "Epoch 51/100\n",
      "397/397 [==============================] - 0s 151us/sample - loss: 5750.7680\n",
      "Epoch 52/100\n",
      "397/397 [==============================] - 0s 148us/sample - loss: 5749.0783\n",
      "Epoch 53/100\n",
      "397/397 [==============================] - 0s 158us/sample - loss: 5745.8543\n",
      "Epoch 54/100\n",
      "397/397 [==============================] - 0s 148us/sample - loss: 5746.9042\n",
      "Epoch 55/100\n",
      "397/397 [==============================] - 0s 146us/sample - loss: 5742.5315\n",
      "Epoch 56/100\n",
      "397/397 [==============================] - 0s 141us/sample - loss: 5741.2527\n",
      "Epoch 57/100\n",
      "397/397 [==============================] - 0s 143us/sample - loss: 5739.1961\n",
      "Epoch 58/100\n",
      "397/397 [==============================] - 0s 146us/sample - loss: 5736.5537\n",
      "Epoch 59/100\n",
      "397/397 [==============================] - 0s 148us/sample - loss: 5731.4143\n",
      "Epoch 60/100\n",
      "397/397 [==============================] - 0s 166us/sample - loss: 5729.5727\n",
      "Epoch 61/100\n",
      "397/397 [==============================] - 0s 163us/sample - loss: 5727.9887\n",
      "Epoch 62/100\n",
      "397/397 [==============================] - 0s 159us/sample - loss: 5726.7059\n",
      "Epoch 63/100\n",
      "397/397 [==============================] - 0s 151us/sample - loss: 5724.0816\n",
      "Epoch 64/100\n",
      "397/397 [==============================] - 0s 146us/sample - loss: 5719.9419\n",
      "Epoch 65/100\n",
      "397/397 [==============================] - 0s 146us/sample - loss: 5719.1372\n",
      "Epoch 66/100\n",
      "397/397 [==============================] - 0s 143us/sample - loss: 5715.8084\n",
      "Epoch 67/100\n",
      "397/397 [==============================] - 0s 141us/sample - loss: 5715.0911\n",
      "Epoch 68/100\n",
      "397/397 [==============================] - 0s 146us/sample - loss: 5711.6200\n",
      "Epoch 69/100\n",
      "397/397 [==============================] - 0s 143us/sample - loss: 5708.7527\n",
      "Epoch 70/100\n",
      "397/397 [==============================] - 0s 143us/sample - loss: 5706.1925\n",
      "Epoch 71/100\n",
      "397/397 [==============================] - 0s 156us/sample - loss: 5703.7932\n",
      "Epoch 72/100\n",
      "397/397 [==============================] - 0s 143us/sample - loss: 5703.0939\n",
      "Epoch 73/100\n",
      "397/397 [==============================] - 0s 141us/sample - loss: 5700.2325\n",
      "Epoch 74/100\n",
      "397/397 [==============================] - 0s 146us/sample - loss: 5697.8391\n",
      "Epoch 75/100\n",
      "397/397 [==============================] - 0s 146us/sample - loss: 5696.5895\n",
      "Epoch 76/100\n",
      "397/397 [==============================] - 0s 143us/sample - loss: 5693.7724\n",
      "Epoch 77/100\n",
      "397/397 [==============================] - 0s 143us/sample - loss: 5693.4251\n",
      "Epoch 78/100\n",
      "397/397 [==============================] - 0s 146us/sample - loss: 5687.3959\n",
      "Epoch 79/100\n",
      "397/397 [==============================] - 0s 146us/sample - loss: 5686.8412\n",
      "Epoch 80/100\n",
      "397/397 [==============================] - 0s 143us/sample - loss: 5683.7696\n",
      "Epoch 81/100\n",
      "397/397 [==============================] - 0s 143us/sample - loss: 5680.6057\n",
      "Epoch 82/100\n",
      "397/397 [==============================] - 0s 146us/sample - loss: 5679.7890\n",
      "Epoch 83/100\n",
      "397/397 [==============================] - 0s 142us/sample - loss: 5678.8293\n",
      "Epoch 84/100\n",
      "397/397 [==============================] - 0s 141us/sample - loss: 5675.1480\n",
      "Epoch 85/100\n",
      "397/397 [==============================] - 0s 146us/sample - loss: 5672.6642\n",
      "Epoch 86/100\n",
      "397/397 [==============================] - 0s 141us/sample - loss: 5673.5221\n",
      "Epoch 87/100\n",
      "397/397 [==============================] - 0s 143us/sample - loss: 5670.3347\n",
      "Epoch 88/100\n",
      "397/397 [==============================] - 0s 146us/sample - loss: 5669.5691\n",
      "Epoch 89/100\n",
      "397/397 [==============================] - 0s 146us/sample - loss: 5664.0442\n",
      "Epoch 90/100\n",
      "397/397 [==============================] - 0s 146us/sample - loss: 5662.5290\n",
      "Epoch 91/100\n"
     ]
    },
    {
     "name": "stdout",
     "output_type": "stream",
     "text": [
      "397/397 [==============================] - 0s 141us/sample - loss: 5662.2062\n",
      "Epoch 92/100\n",
      "397/397 [==============================] - 0s 141us/sample - loss: 5662.0627\n",
      "Epoch 93/100\n",
      "397/397 [==============================] - 0s 143us/sample - loss: 5656.2346\n",
      "Epoch 94/100\n",
      "397/397 [==============================] - 0s 143us/sample - loss: 5654.3979\n",
      "Epoch 95/100\n",
      "397/397 [==============================] - 0s 143us/sample - loss: 5653.9049\n",
      "Epoch 96/100\n",
      "397/397 [==============================] - 0s 143us/sample - loss: 5647.7236\n",
      "Epoch 97/100\n",
      "397/397 [==============================] - 0s 146us/sample - loss: 5649.0475\n",
      "Epoch 98/100\n",
      "397/397 [==============================] - 0s 143us/sample - loss: 5643.2475\n",
      "Epoch 99/100\n",
      "397/397 [==============================] - 0s 141us/sample - loss: 5644.7581\n",
      "Epoch 100/100\n",
      "397/397 [==============================] - 0s 146us/sample - loss: 5644.2437\n"
     ]
    }
   ],
   "source": [
    "# https://keras.io/api/models/model/\n",
    "from tensorflow.keras.layers import Input, Dense\n",
    "from tensorflow.keras.models import Model\n",
    "\n",
    "# Build the model using the functional API (only change in style, both works!)\n",
    "i = Input(shape=(1,))\n",
    "x = Dense(1)(i)\n",
    "LR_model = Model(i, x)\n",
    "\n",
    "# Compile the model\n",
    "LR_model.compile(optimizer='sgd', loss='mse')\n",
    "\n",
    "# Train the model\n",
    "LR_history= LR_model.fit(reduced_diabetes_X_train, diabetes_y_train, epochs=100)"
   ]
  },
  {
   "cell_type": "code",
   "execution_count": 29,
   "metadata": {},
   "outputs": [
    {
     "data": {
      "text/plain": [
       "<matplotlib.legend.Legend at 0x1c1f808e408>"
      ]
     },
     "execution_count": 29,
     "metadata": {},
     "output_type": "execute_result"
    },
    {
     "data": {
      "image/png": "[encoded data removed]",
      "text/plain": [
       "<Figure size 432x288 with 1 Axes>"
      ]
     },
     "metadata": {},
     "output_type": "display_data"
    }
   ],
   "source": [
    "# Plot the Loss Learning Curve\n",
    "plt.plot(LR_history.history['loss'], label='loss')\n",
    "plt.legend()"
   ]
  },
  {
   "cell_type": "code",
   "execution_count": 30,
   "metadata": {},
   "outputs": [
    {
     "name": "stdout",
     "output_type": "stream",
     "text": [
      "[<tensorflow.python.keras.engine.input_layer.InputLayer object at 0x000001C01C138708>, <tensorflow.python.keras.layers.core.Dense object at 0x000001C1EF989D48>] \n",
      "\n",
      "[array([[55.04609]], dtype=float32), array([152.84894], dtype=float32)]\n"
     ]
    }
   ],
   "source": [
    "# Checking the models Layers and Weights\n",
    "print(LR_model.layers, \"\\n\")\n",
    "print(LR_model.layers[1].get_weights())"
   ]
  },
  {
   "cell_type": "code",
   "execution_count": 31,
   "metadata": {},
   "outputs": [
    {
     "name": "stdout",
     "output_type": "stream",
     "text": [
      "Equation:  55.04609 x + 152.84894\n"
     ]
    }
   ],
   "source": [
    "# The weight tell us the slope and intercept\n",
    "slope = LR_model.layers[1].get_weights()[0][0,0]\n",
    "intercept = LR_model.layers[1].get_weights()[1][0]\n",
    "\n",
    "print(\"Equation: \", slope, \"x +\" , intercept)"
   ]
  },
  {
   "cell_type": "code",
   "execution_count": 32,
   "metadata": {},
   "outputs": [
    {
     "name": "stdout",
     "output_type": "stream",
     "text": [
      "Manual calculation with slope and intercept:  [152.3886658]\n",
      "Model prediction:  [[152.38867]]\n"
     ]
    }
   ],
   "source": [
    "# Testing out manual calculation vs prediction using the model\n",
    "\n",
    "manual_calculation = slope * reduced_diabetes_X_test[0] + intercept\n",
    "model_prediction = LR_model.predict(reduced_diabetes_X_test[0])\n",
    "\n",
    "print(\"Manual calculation with slope and intercept: \", manual_calculation)\n",
    "print(\"Model prediction: \", model_prediction)"
   ]
  },
  {
   "cell_type": "code",
   "execution_count": 33,
   "metadata": {},
   "outputs": [
    {
     "data": {
      "text/plain": [
       "[<matplotlib.lines.Line2D at 0x1c1fc181d88>]"
      ]
     },
     "execution_count": 33,
     "metadata": {},
     "output_type": "execute_result"
    },
    {
     "data": {
      "image/png": "[encoded data removed]",
      "text/plain": [
       "<Figure size 432x288 with 1 Axes>"
      ]
     },
     "metadata": {},
     "output_type": "display_data"
    }
   ],
   "source": [
    "# Use the pretrained model to make prediction\n",
    "diabetes_y_pred = LR_model.predict(reduced_diabetes_X_test)\n",
    "\n",
    "# Plot the true value and fitted-line (predicted)\n",
    "plt.scatter(reduced_diabetes_X_test, diabetes_y_test, color='black')\n",
    "plt.plot(reduced_diabetes_X_test, diabetes_y_pred, color='blue', linewidth=3)"
   ]
  }
 ],
 "metadata": {
  "kernelspec": {
   "display_name": "Python 3",
   "language": "python",
   "name": "python3"
  },
  "language_info": {
   "codemirror_mode": {
    "name": "ipython",
    "version": 3
   },
   "file_extension": ".py",
   "mimetype": "text/x-python",
   "name": "python",
   "nbconvert_exporter": "python",
   "pygments_lexer": "ipython3",
   "version": "3.7.9"
  }
 },
 "nbformat": 4,
 "nbformat_minor": 4
}
